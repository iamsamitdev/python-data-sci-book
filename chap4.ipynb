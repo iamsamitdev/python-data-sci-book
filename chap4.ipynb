{
 "cells": [
  {
   "cell_type": "code",
   "execution_count": 1,
   "metadata": {},
   "outputs": [
    {
     "data": {
      "text/plain": [
       "'0.24.2'"
      ]
     },
     "execution_count": 1,
     "metadata": {},
     "output_type": "execute_result"
    }
   ],
   "source": [
    "import pandas as pd\n",
    "\n",
    "pd.__version__"
   ]
  },
  {
   "cell_type": "code",
   "execution_count": 25,
   "metadata": {},
   "outputs": [
    {
     "data": {
      "text/plain": [
       "0    70\n",
       "1    85\n",
       "2    60\n",
       "3    50\n",
       "4    75\n",
       "dtype: int64"
      ]
     },
     "metadata": {},
     "output_type": "display_data"
    },
    {
     "data": {
      "text/plain": [
       "0    11\n",
       "1    77\n",
       "2    22\n",
       "3    33\n",
       "4    99\n",
       "dtype: int64"
      ]
     },
     "metadata": {},
     "output_type": "display_data"
    },
    {
     "data": {
      "text/plain": [
       "0    1.23\n",
       "1    4.55\n",
       "2    6.78\n",
       "dtype: float64"
      ]
     },
     "metadata": {},
     "output_type": "display_data"
    },
    {
     "data": {
      "text/plain": [
       "0     1\n",
       "1     5\n",
       "2     9\n",
       "3    13\n",
       "4    17\n",
       "dtype: int64"
      ]
     },
     "metadata": {},
     "output_type": "display_data"
    }
   ],
   "source": [
    "import pandas as pd\n",
    "\n",
    "data1 = [70, 85, 60, 50, 75]\n",
    "sr1 = pd.Series(data=data1)\n",
    "\n",
    "data2 = (11, 77, 22, 33, 99)\n",
    "sr2 = pd.Series(data2)\n",
    "\n",
    "sr3 = pd.Series([1.23, 4.55, 6.78])\n",
    "\n",
    "sr4 = pd.Series(range(1, 20, 4))\n",
    "\n",
    "display(sr1, sr2, sr3, sr4)"
   ]
  },
  {
   "cell_type": "code",
   "execution_count": 26,
   "metadata": {},
   "outputs": [
    {
     "data": {
      "text/plain": [
       "iphone     35000\n",
       "ipad       25000\n",
       "macbook    90000\n",
       "dtype: int64"
      ]
     },
     "execution_count": 26,
     "metadata": {},
     "output_type": "execute_result"
    }
   ],
   "source": [
    "import pandas as pd\n",
    "\n",
    "data = {'iphone':35000, 'ipad':25000, 'macbook':90000}\n",
    "sr = pd.Series(data)\n",
    "sr"
   ]
  },
  {
   "cell_type": "code",
   "execution_count": 45,
   "metadata": {},
   "outputs": [
    {
     "data": {
      "text/plain": [
       "0     16\n",
       "1     32\n",
       "2     64\n",
       "3    128\n",
       "dtype: int32"
      ]
     },
     "metadata": {},
     "output_type": "display_data"
    },
    {
     "data": {
      "text/plain": [
       "0    68\n",
       "1    81\n",
       "2    35\n",
       "3    33\n",
       "4    63\n",
       "dtype: int32"
      ]
     },
     "metadata": {},
     "output_type": "display_data"
    },
    {
     "data": {
      "text/plain": [
       "0    1.978489\n",
       "1    2.826992\n",
       "2   -7.153668\n",
       "3    0.398543\n",
       "4   -5.269032\n",
       "dtype: float64"
      ]
     },
     "metadata": {},
     "output_type": "display_data"
    }
   ],
   "source": [
    "import pandas as pd\n",
    "import numpy as np\n",
    "\n",
    "data1 = np.array([16, 32, 64, 128])\n",
    "sr1 = pd.Series(data1)\n",
    "\n",
    "data2 = np.random.randint(10, 100, 5)\n",
    "sr2 = pd.Series(data2)\n",
    "\n",
    "sr3 = pd.Series(np.random.uniform(-10, 10, 5))\n",
    "\n",
    "display(sr1, sr2, sr3)"
   ]
  },
  {
   "cell_type": "code",
   "execution_count": 46,
   "metadata": {},
   "outputs": [
    {
     "data": {
      "text/plain": [
       "a    10\n",
       "b    20\n",
       "c    50\n",
       "d    80\n",
       "dtype: int64"
      ]
     },
     "metadata": {},
     "output_type": "display_data"
    },
    {
     "data": {
      "text/plain": [
       "2019    150\n",
       "2020    200\n",
       "2021    130\n",
       "dtype: int64"
      ]
     },
     "metadata": {},
     "output_type": "display_data"
    }
   ],
   "source": [
    "import pandas as pd\n",
    "\n",
    "data = [10, 20, 50, 80]  \n",
    "idx = ['a', 'b', 'c', 'd']\n",
    "sr1 = pd.Series(data, index=idx)\n",
    "\n",
    "sr2 = pd.Series([150, 200, 130], \n",
    "                index=[2019, 2020, 2021])\n",
    "\n",
    "display(sr1, sr2)"
   ]
  },
  {
   "cell_type": "code",
   "execution_count": 48,
   "metadata": {},
   "outputs": [
    {
     "data": {
      "text/plain": [
       "a    10\n",
       "b    20\n",
       "c    50\n",
       "d    80\n",
       "dtype: int64"
      ]
     },
     "metadata": {},
     "output_type": "display_data"
    },
    {
     "data": {
      "text/plain": [
       "i    10\n",
       "j    20\n",
       "k    50\n",
       "l    80\n",
       "dtype: int64"
      ]
     },
     "metadata": {},
     "output_type": "display_data"
    }
   ],
   "source": [
    "import pandas as pd\n",
    "\n",
    "data = [10, 20, 50, 80]  \n",
    "\n",
    "sr1 = pd.Series(data, index=list('abcd'))\n",
    "#list('abcd') = ['a', 'b', 'c', 'd']\n",
    "\n",
    "sr2 = pd.Series(data, index=list('ijkl'))\n",
    "#list('ijkl') = ['i', 'j', 'k', 'l']\n",
    "\n",
    "display(sr1, sr2)"
   ]
  },
  {
   "cell_type": "code",
   "execution_count": 55,
   "metadata": {},
   "outputs": [
    {
     "name": "stdout",
     "output_type": "stream",
     "text": [
      "Index(['T-Shirt', 'Shoes', 'Bag'], dtype='object')\n",
      "\n",
      "[ 499 1000  800]\n"
     ]
    }
   ],
   "source": [
    "import pandas as pd\n",
    "\n",
    "data = {'T-Shirt':499, 'Shoes':1000, 'Bag':800}\n",
    "sr = pd.Series(data)\n",
    "\n",
    "print(sr.index, sr.values, sep='\\n\\n')"
   ]
  },
  {
   "cell_type": "code",
   "execution_count": 58,
   "metadata": {},
   "outputs": [
    {
     "data": {
      "text/plain": [
       "a    84\n",
       "b    65\n",
       "c    51\n",
       "dtype: int32"
      ]
     },
     "metadata": {},
     "output_type": "display_data"
    },
    {
     "data": {
      "text/plain": [
       "84"
      ]
     },
     "metadata": {},
     "output_type": "display_data"
    },
    {
     "data": {
      "text/plain": [
       "65"
      ]
     },
     "metadata": {},
     "output_type": "display_data"
    },
    {
     "data": {
      "text/plain": [
       "51"
      ]
     },
     "metadata": {},
     "output_type": "display_data"
    },
    {
     "data": {
      "text/plain": [
       "'b'"
      ]
     },
     "metadata": {},
     "output_type": "display_data"
    }
   ],
   "source": [
    "import pandas as pd\n",
    "import numpy as np\n",
    "\n",
    "sr = pd.Series(np.random.randint(10, 100, 3),\n",
    "               index=list('abc'))\n",
    "\n",
    "display(sr,\n",
    "        sr[0],\n",
    "        sr.values[1],\n",
    "        sr['c'],\n",
    "        sr.index[1])"
   ]
  },
  {
   "cell_type": "code",
   "execution_count": 62,
   "metadata": {},
   "outputs": [
    {
     "data": {
      "text/plain": [
       "0    93\n",
       "2    26\n",
       "4    58\n",
       "8    97\n",
       "dtype: int32"
      ]
     },
     "metadata": {},
     "output_type": "display_data"
    },
    {
     "data": {
      "text/plain": [
       "A     555\n",
       "C     108\n",
       "D     123\n",
       "G    1009\n",
       "dtype: int32"
      ]
     },
     "metadata": {},
     "output_type": "display_data"
    }
   ],
   "source": [
    "import pandas as pd\n",
    "import numpy as np\n",
    "\n",
    "data1 = np.random.randint(10, 100, 10)\n",
    "sr1 = pd.Series(data1)\n",
    "\n",
    "data2 = np.random.choice([555, 123, 890, 1009, 108], 7)\n",
    "sr2 = pd.Series(data2, index=list('ABCDEFG'))\n",
    "\n",
    "display(sr1[[0, 2, 4, 8]], \n",
    "        sr2[['A', 'C', 'D', 'G']])\n"
   ]
  },
  {
   "cell_type": "code",
   "execution_count": 83,
   "metadata": {},
   "outputs": [
    {
     "data": {
      "text/plain": [
       "3    41\n",
       "4    20\n",
       "5    94\n",
       "dtype: int32"
      ]
     },
     "metadata": {},
     "output_type": "display_data"
    },
    {
     "data": {
      "text/plain": [
       "1    79\n",
       "4    20\n",
       "7    97\n",
       "dtype: int32"
      ]
     },
     "metadata": {},
     "output_type": "display_data"
    },
    {
     "data": {
      "text/plain": [
       "6    45\n",
       "7    97\n",
       "8    29\n",
       "9    34\n",
       "dtype: int32"
      ]
     },
     "metadata": {},
     "output_type": "display_data"
    }
   ],
   "source": [
    "import pandas as pd\n",
    "import numpy as np\n",
    "\n",
    "data = np.random.randint(10, 100, 10)\n",
    "sr = pd.Series(data)\n",
    "\n",
    "display(sr[3:6],\n",
    "        sr[1::3],\n",
    "        sr[-4:])"
   ]
  },
  {
   "cell_type": "code",
   "execution_count": 107,
   "metadata": {},
   "outputs": [
    {
     "data": {
      "text/plain": [
       "b    16\n",
       "c    33\n",
       "d    69\n",
       "dtype: int32"
      ]
     },
     "metadata": {},
     "output_type": "display_data"
    },
    {
     "data": {
      "text/plain": [
       "a    99\n",
       "c    33\n",
       "e    43\n",
       "dtype: int32"
      ]
     },
     "metadata": {},
     "output_type": "display_data"
    },
    {
     "data": {
      "text/plain": [
       "d    69\n",
       "c    33\n",
       "b    16\n",
       "dtype: int32"
      ]
     },
     "metadata": {},
     "output_type": "display_data"
    }
   ],
   "source": [
    "import pandas as pd\n",
    "import numpy as np\n",
    "\n",
    "data = np.random.randint(10, 100, 5)\n",
    "sr = pd.Series(data, index=list('abcde'))\n",
    "\n",
    "display(sr['b':'d'],\n",
    "        sr['a':'e':2],\n",
    "        sr['d':'b':-1])"
   ]
  },
  {
   "cell_type": "code",
   "execution_count": 4,
   "metadata": {},
   "outputs": [
    {
     "data": {
      "text/plain": [
       "1     41\n",
       "4     48\n",
       "6     43\n",
       "8     43\n",
       "10    53\n",
       "dtype: int32"
      ]
     },
     "metadata": {},
     "output_type": "display_data"
    },
    {
     "data": {
      "text/plain": [
       "8     43\n",
       "10    53\n",
       "dtype: int32"
      ]
     },
     "metadata": {},
     "output_type": "display_data"
    }
   ],
   "source": [
    "import pandas as pd\n",
    "import numpy as np\n",
    "\n",
    "data = np.random.randint(10, 100, 5)\n",
    "sr = pd.Series(data, index=[1, 4, 6, 8, 10])\n",
    "\n",
    "display(sr, sr[3:8])"
   ]
  },
  {
   "cell_type": "code",
   "execution_count": 2,
   "metadata": {},
   "outputs": [
    {
     "data": {
      "text/plain": [
       "1     49\n",
       "4     41\n",
       "6     84\n",
       "8     70\n",
       "10    22\n",
       "dtype: int32"
      ]
     },
     "metadata": {},
     "output_type": "display_data"
    },
    {
     "data": {
      "text/plain": [
       "41"
      ]
     },
     "metadata": {},
     "output_type": "display_data"
    },
    {
     "data": {
      "text/plain": [
       "4    41\n",
       "6    84\n",
       "8    70\n",
       "dtype: int32"
      ]
     },
     "metadata": {},
     "output_type": "display_data"
    },
    {
     "data": {
      "text/plain": [
       "6     84\n",
       "8     70\n",
       "10    22\n",
       "dtype: int32"
      ]
     },
     "metadata": {},
     "output_type": "display_data"
    },
    {
     "data": {
      "text/plain": [
       "1     49\n",
       "6     84\n",
       "10    22\n",
       "dtype: int32"
      ]
     },
     "metadata": {},
     "output_type": "display_data"
    },
    {
     "data": {
      "text/plain": [
       "b    41\n",
       "c    84\n",
       "d    70\n",
       "dtype: int32"
      ]
     },
     "metadata": {},
     "output_type": "display_data"
    }
   ],
   "source": [
    "import pandas as pd\n",
    "import numpy as np\n",
    "\n",
    "data = np.random.randint(10, 100, 5)\n",
    "sr = pd.Series(data, index=[1, 4, 6, 8, 10])\n",
    "\n",
    "display(sr, \n",
    "        sr.loc[4], \n",
    "        sr.loc[3:8], \n",
    "        sr.loc[6:],\n",
    "        sr.loc[[1, 6, 10]])\n",
    "\n",
    "\n",
    "sr.index = list('abcde')  #แก้ไข Index เดิมของ Series\n",
    "display(sr.loc['b':'d'])  #แสดงช่วง Index ระหว่าง b - d"
   ]
  },
  {
   "cell_type": "code",
   "execution_count": 170,
   "metadata": {},
   "outputs": [
    {
     "data": {
      "text/plain": [
       "a    12\n",
       "b    88\n",
       "c    73\n",
       "dtype: int32"
      ]
     },
     "metadata": {},
     "output_type": "display_data"
    },
    {
     "data": {
      "text/plain": [
       "a    22\n",
       "b    98\n",
       "c    83\n",
       "dtype: int32"
      ]
     },
     "metadata": {},
     "output_type": "display_data"
    },
    {
     "data": {
      "text/plain": [
       "c    93\n",
       "b    12\n",
       "a    20\n",
       "dtype: int32"
      ]
     },
     "metadata": {},
     "output_type": "display_data"
    },
    {
     "data": {
      "text/plain": [
       "a    -8\n",
       "b    76\n",
       "c   -20\n",
       "dtype: int32"
      ]
     },
     "metadata": {},
     "output_type": "display_data"
    },
    {
     "data": {
      "text/plain": [
       "a    50.0\n",
       "b    94.0\n",
       "c     NaN\n",
       "z     NaN\n",
       "dtype: float64"
      ]
     },
     "metadata": {},
     "output_type": "display_data"
    }
   ],
   "source": [
    "import pandas as pd\n",
    "import numpy as np\n",
    "\n",
    "sr1 = pd.Series(np.random.randint(10, 100, 3), \n",
    "                index=list('abc'))\n",
    "\n",
    "sr2 = pd.Series(np.random.randint(10, 100, 3), \n",
    "                index=list('cba'))\n",
    "\n",
    "sr3 = pd.Series(np.random.randint(10, 100, 3), \n",
    "                index=list('zba'))\n",
    "\n",
    "display(sr1,\n",
    "        sr1 + 10,\n",
    "        sr2,\n",
    "        sr1 - sr2,\n",
    "        sr2 + sr3)"
   ]
  },
  {
   "cell_type": "code",
   "execution_count": 12,
   "metadata": {},
   "outputs": [
    {
     "data": {
      "text/plain": [
       "2    88\n",
       "3    77\n",
       "9    50\n",
       "dtype: int32"
      ]
     },
     "metadata": {},
     "output_type": "display_data"
    },
    {
     "data": {
      "text/plain": [
       "9    50\n",
       "dtype: int32"
      ]
     },
     "metadata": {},
     "output_type": "display_data"
    }
   ],
   "source": [
    "import pandas as pd\n",
    "import numpy as np\n",
    "\n",
    "data = np.random.randint(10, 101, 10)\n",
    "sr = pd.Series(data)\n",
    "\n",
    "display(sr[sr >= 50],\n",
    "        sr[sr % 5 == 0])"
   ]
  },
  {
   "cell_type": "code",
   "execution_count": 89,
   "metadata": {},
   "outputs": [
    {
     "data": {
      "text/plain": [
       "1    44\n",
       "3    58\n",
       "4    49\n",
       "5    73\n",
       "6    56\n",
       "8    72\n",
       "dtype: int32"
      ]
     },
     "metadata": {},
     "output_type": "display_data"
    },
    {
     "data": {
      "text/plain": [
       "0    90\n",
       "2    14\n",
       "5    73\n",
       "7    11\n",
       "8    72\n",
       "9    89\n",
       "dtype: int32"
      ]
     },
     "metadata": {},
     "output_type": "display_data"
    }
   ],
   "source": [
    "import pandas as pd\n",
    "import numpy as np\n",
    "\n",
    "data = np.random.randint(10, 101, 10)\n",
    "sr = pd.Series(data)\n",
    "\n",
    "display(sr[(sr >= 40) & (sr <= 80)],\n",
    "        sr[(sr < 20) | (sr > 70)])"
   ]
  },
  {
   "cell_type": "code",
   "execution_count": 104,
   "metadata": {},
   "outputs": [
    {
     "data": {
      "text/plain": [
       "0    1.0\n",
       "1    2.0\n",
       "2    NaN\n",
       "3    4.0\n",
       "4    NaN\n",
       "5    6.0\n",
       "dtype: float64"
      ]
     },
     "execution_count": 104,
     "metadata": {},
     "output_type": "execute_result"
    }
   ],
   "source": [
    "import pandas as pd\n",
    "import numpy as np\n",
    "\n",
    "data = np.array([1, 2, np.nan, 4, np.nan, 6])\n",
    "sr = pd.Series(data)\n",
    "sr"
   ]
  },
  {
   "cell_type": "code",
   "execution_count": 158,
   "metadata": {},
   "outputs": [
    {
     "data": {
      "text/plain": [
       "0     NaN\n",
       "1     NaN\n",
       "2    10.0\n",
       "3     5.0\n",
       "4     NaN\n",
       "dtype: float64"
      ]
     },
     "metadata": {},
     "output_type": "display_data"
    },
    {
     "data": {
      "text/plain": [
       "0     NaN\n",
       "1     NaN\n",
       "2    11.0\n",
       "3     6.0\n",
       "4     NaN\n",
       "dtype: float64"
      ]
     },
     "metadata": {},
     "output_type": "display_data"
    },
    {
     "data": {
      "text/plain": [
       "0    NaN\n",
       "1    1.0\n",
       "2    2.0\n",
       "3    3.0\n",
       "4    NaN\n",
       "dtype: float64"
      ]
     },
     "metadata": {},
     "output_type": "display_data"
    },
    {
     "data": {
      "text/plain": [
       "0    NaN\n",
       "1    NaN\n",
       "2    8.0\n",
       "3    2.0\n",
       "4    NaN\n",
       "dtype: float64"
      ]
     },
     "metadata": {},
     "output_type": "display_data"
    }
   ],
   "source": [
    "import pandas as pd\n",
    "import numpy as np\n",
    "\n",
    "sr1 = pd.Series(np.random.choice([5, 10, np.nan], 5))\n",
    "sr2 = pd.Series([np.nan, 1, 2, 3, np.nan])\n",
    "\n",
    "display(sr1, \n",
    "        sr1 + 1,\n",
    "        sr2,\n",
    "        sr1 - sr2)"
   ]
  },
  {
   "cell_type": "code",
   "execution_count": 1,
   "metadata": {},
   "outputs": [
    {
     "data": {
      "text/plain": [
       "a     1\n",
       "b     2\n",
       "c     4\n",
       "d     8\n",
       "e    16\n",
       "dtype: int64"
      ]
     },
     "metadata": {},
     "output_type": "display_data"
    },
    {
     "data": {
      "text/plain": [
       "31"
      ]
     },
     "metadata": {},
     "output_type": "display_data"
    },
    {
     "data": {
      "text/plain": [
       "28"
      ]
     },
     "metadata": {},
     "output_type": "display_data"
    },
    {
     "data": {
      "text/plain": [
       "7"
      ]
     },
     "metadata": {},
     "output_type": "display_data"
    },
    {
     "data": {
      "text/plain": [
       "22"
      ]
     },
     "metadata": {},
     "output_type": "display_data"
    },
    {
     "data": {
      "text/plain": [
       "24"
      ]
     },
     "metadata": {},
     "output_type": "display_data"
    }
   ],
   "source": [
    "import pandas as pd\n",
    "\n",
    "data = [1, 2, 4, 8, 16]\n",
    "sr = pd.Series(data, index=list('abcde'))\n",
    "\n",
    "display(sr,\n",
    "        sr.sum(),\n",
    "        sr[2:5].sum(),\n",
    "        sr.loc['a':'c'].sum(),     \n",
    "        sr[['b', 'c', 'e']].sum(), \n",
    "        sr[sr > 5].sum())\n"
   ]
  },
  {
   "cell_type": "code",
   "execution_count": 45,
   "metadata": {},
   "outputs": [
    {
     "name": "stdout",
     "output_type": "stream",
     "text": [
      "count =  5\n",
      "mean =  6.2\n",
      "std =  6.099180272790763\n",
      "max =  16\n",
      "min = 1\n",
      "\n",
      "count     5.00000\n",
      "mean      6.20000\n",
      "std       6.09918\n",
      "min       1.00000\n",
      "25%       2.00000\n",
      "50%       4.00000\n",
      "75%       8.00000\n",
      "max      16.00000\n",
      "dtype: float64\n",
      "3\n"
     ]
    }
   ],
   "source": [
    "import pandas as pd\n",
    "\n",
    "data = [1, 2, 4, 8, 16]\n",
    "sr = pd.Series(data)\n",
    "print('count = ', sr.count())\n",
    "print('mean = ', sr.mean())\n",
    "print('std = ', sr.std())\n",
    "print('max = ', sr.max())\n",
    "print('min =', sr.min())\n",
    "print()\n",
    "print(sr.describe())"
   ]
  },
  {
   "cell_type": "code",
   "execution_count": 18,
   "metadata": {},
   "outputs": [
    {
     "data": {
      "text/plain": [
       "0    38\n",
       "1    63\n",
       "2    42\n",
       "3    68\n",
       "4    35\n",
       "dtype: int32"
      ]
     },
     "metadata": {},
     "output_type": "display_data"
    },
    {
     "data": {
      "text/plain": [
       "True"
      ]
     },
     "metadata": {},
     "output_type": "display_data"
    },
    {
     "data": {
      "text/plain": [
       "False"
      ]
     },
     "metadata": {},
     "output_type": "display_data"
    }
   ],
   "source": [
    "import pandas as pd\n",
    "import numpy as np\n",
    "\n",
    "data = np.random.randint(10, 101, 5)\n",
    "sr = pd.Series(data)\n",
    "\n",
    "display(sr,\n",
    "        (sr > 30).all(),\n",
    "        (sr % 10 == 0).any())"
   ]
  },
  {
   "cell_type": "code",
   "execution_count": 70,
   "metadata": {},
   "outputs": [
    {
     "data": {
      "text/plain": [
       "a     1\n",
       "b     2\n",
       "c     4\n",
       "d    16\n",
       "e    32\n",
       "dtype: int64"
      ]
     },
     "metadata": {},
     "output_type": "display_data"
    },
    {
     "data": {
      "text/plain": [
       "0     1\n",
       "1     2\n",
       "2     4\n",
       "3    16\n",
       "4    32\n",
       "dtype: int64"
      ]
     },
     "metadata": {},
     "output_type": "display_data"
    },
    {
     "data": {
      "text/plain": [
       "a     1\n",
       "b     2\n",
       "c     4\n",
       "d    16\n",
       "e    32\n",
       "0     1\n",
       "1     2\n",
       "2     4\n",
       "3    16\n",
       "4    32\n",
       "dtype: int64"
      ]
     },
     "metadata": {},
     "output_type": "display_data"
    }
   ],
   "source": [
    "import pandas as pd\n",
    "\n",
    "sr1 = pd.Series([1, 2, 4], index=list('abc'))\n",
    "sr2 = pd.Series([16, 32], index=list('de'))\n",
    "\n",
    "sr3 = sr1.append(sr2, ignore_index=False)\n",
    "sr4 = sr1.append(sr2, ignore_index=True)\n",
    "\n",
    "display(sr3, sr4)"
   ]
  },
  {
   "cell_type": "code",
   "execution_count": 73,
   "metadata": {},
   "outputs": [
    {
     "data": {
      "text/plain": [
       "a     1\n",
       "b     2\n",
       "c     4\n",
       "d    16\n",
       "e    32\n",
       "dtype: int64"
      ]
     },
     "metadata": {},
     "output_type": "display_data"
    }
   ],
   "source": [
    "import pandas as pd\n",
    "\n",
    "sr1 = pd.Series([1, 2, 4], index=list('abc'))\n",
    "sr2 = pd.Series([16, 32], index=list('de'))\n",
    "\n",
    "sr3 = pd.concat([sr1, sr2])\n",
    "\n",
    "display(sr3)"
   ]
  },
  {
   "cell_type": "code",
   "execution_count": 49,
   "metadata": {},
   "outputs": [
    {
     "data": {
      "text/plain": [
       "a    3\n",
       "b    5\n",
       "c    3\n",
       "d    0\n",
       "e   -1\n",
       "dtype: int32"
      ]
     },
     "metadata": {},
     "output_type": "display_data"
    },
    {
     "data": {
      "text/plain": [
       "a    3.0\n",
       "b    5.0\n",
       "c    3.0\n",
       "d    0.0\n",
       "e    NaN\n",
       "dtype: float64"
      ]
     },
     "metadata": {},
     "output_type": "display_data"
    },
    {
     "data": {
      "text/plain": [
       "'d'"
      ]
     },
     "metadata": {},
     "output_type": "display_data"
    }
   ],
   "source": [
    "import pandas as pd\n",
    "import numpy as np\n",
    "\n",
    "def func(x):\n",
    "    return np.nan if x < 0 else x\n",
    "\n",
    "data = np.random.choice([-10, -5, -1, 0, 3, 5, 7], 5)\n",
    "sr1 = pd.Series(data, index=list('abcde'))\n",
    "sr2 = sr1.apply(func)\n",
    "\n",
    "display(sr1, sr2)\n"
   ]
  },
  {
   "cell_type": "code",
   "execution_count": 68,
   "metadata": {},
   "outputs": [
    {
     "name": "stdout",
     "output_type": "stream",
     "text": [
      "[2 4 6 7]\n",
      "\n",
      "4\n",
      "\n",
      "False\n",
      "\n",
      "2    3\n",
      "6    2\n",
      "4    2\n",
      "7    1\n",
      "dtype: int64\n"
     ]
    }
   ],
   "source": [
    "import pandas as pd\n",
    "\n",
    "sr = pd.Series([2, 4, 6, 6, 4, 2, 2, 7])\n",
    "\n",
    "print(sr.unique(),\n",
    "      sr.nunique(),\n",
    "      sr.is_unique,\n",
    "      sep='\\n\\n')\n"
   ]
  },
  {
   "cell_type": "code",
   "execution_count": 69,
   "metadata": {},
   "outputs": [
    {
     "data": {
      "text/plain": [
       "2    3\n",
       "6    2\n",
       "4    2\n",
       "7    1\n",
       "dtype: int64"
      ]
     },
     "metadata": {},
     "output_type": "display_data"
    }
   ],
   "source": [
    "import pandas as pd\n",
    "\n",
    "sr = pd.Series([2, 4, 6, 6, 4, 2, 2, 7])\n",
    "\n",
    "display(sr.value_counts())"
   ]
  },
  {
   "cell_type": "code",
   "execution_count": 31,
   "metadata": {},
   "outputs": [
    {
     "data": {
      "text/plain": [
       "0    31\n",
       "1    96\n",
       "2    25\n",
       "dtype: int32"
      ]
     },
     "metadata": {},
     "output_type": "display_data"
    },
    {
     "data": {
      "text/plain": [
       "8    14\n",
       "9    56\n",
       "dtype: int32"
      ]
     },
     "metadata": {},
     "output_type": "display_data"
    }
   ],
   "source": [
    "import pandas as pd\n",
    "import numpy as np\n",
    "\n",
    "sr = pd.Series(np.random.randint(10, 100, 10))\n",
    "\n",
    "display(sr.head(3),\n",
    "        sr.tail(2))\n"
   ]
  },
  {
   "cell_type": "code",
   "execution_count": 32,
   "metadata": {},
   "outputs": [
    {
     "data": {
      "text/plain": [
       "a    10\n",
       "c    30\n",
       "d    40\n",
       "dtype: int64"
      ]
     },
     "metadata": {},
     "output_type": "display_data"
    },
    {
     "data": {
      "text/plain": [
       "b    20\n",
       "d    40\n",
       "dtype: int64"
      ]
     },
     "metadata": {},
     "output_type": "display_data"
    }
   ],
   "source": [
    "import pandas as pd\n",
    "\n",
    "data = [10, 20, 30, 40]\n",
    "sr1 = pd.Series(data, index=list('abcd'))\n",
    "sr2 = sr1.drop('b')\n",
    "sr3 = sr1.drop({'a', 'c'})\n",
    "\n",
    "display(sr2, sr3)"
   ]
  },
  {
   "cell_type": "code",
   "execution_count": 88,
   "metadata": {},
   "outputs": [
    {
     "data": {
      "text/plain": [
       "a    101.0\n",
       "b      NaN\n",
       "c      NaN\n",
       "d    404.0\n",
       "dtype: float64"
      ]
     },
     "metadata": {},
     "output_type": "display_data"
    }
   ],
   "source": [
    "import pandas as pd\n",
    "\n",
    "data = [10, 20, 30, 40]\n",
    "sr1 = pd.Series(data, index=list('abcd'))\n",
    "\n",
    "sr2 = sr1.map({10:101, 40:404})\n",
    "display(sr2)"
   ]
  },
  {
   "cell_type": "code",
   "execution_count": 89,
   "metadata": {},
   "outputs": [
    {
     "data": {
      "text/plain": [
       "Ant    10\n",
       "b      20\n",
       "c      30\n",
       "Dog    40\n",
       "dtype: int64"
      ]
     },
     "metadata": {},
     "output_type": "display_data"
    },
    {
     "data": {
      "text/plain": [
       "one      10\n",
       "two      20\n",
       "three    30\n",
       "four     40\n",
       "dtype: int64"
      ]
     },
     "metadata": {},
     "output_type": "display_data"
    }
   ],
   "source": [
    "import pandas as pd\n",
    "\n",
    "data = [10, 20, 30, 40]\n",
    "sr1 = pd.Series(data, index=list('abcd'))\n",
    "\n",
    "sr2 = sr1.rename({'a':'Ant', 'd':'Dog'})\n",
    "\n",
    "sr1.index = ['one', 'two', 'three', 'four']\n",
    "\n",
    "display(sr2, sr1)"
   ]
  },
  {
   "cell_type": "code",
   "execution_count": 41,
   "metadata": {},
   "outputs": [
    {
     "data": {
      "text/plain": [
       "a    10\n",
       "b    24\n",
       "d    30\n",
       "c    70\n",
       "dtype: int32"
      ]
     },
     "metadata": {},
     "output_type": "display_data"
    },
    {
     "data": {
      "text/plain": [
       "c    70\n",
       "d    30\n",
       "b    24\n",
       "a    10\n",
       "dtype: int32"
      ]
     },
     "metadata": {},
     "output_type": "display_data"
    }
   ],
   "source": [
    "import pandas as pd\n",
    "import numpy as np\n",
    "\n",
    "sr1 = pd.Series(np.random.randint(10, 100, 4), \n",
    "                index=list('abcd'))\n",
    "\n",
    "sr2 = sr1.sort_values()\n",
    "sr3 = sr1.sort_values(ascending=False)\n",
    "\n",
    "display(sr2, sr3)"
   ]
  },
  {
   "cell_type": "code",
   "execution_count": 92,
   "metadata": {},
   "outputs": [
    {
     "name": "stdout",
     "output_type": "stream",
     "text": [
      "a: 24\n",
      "b: 76\n",
      "c: 27\n",
      "d: 14\n"
     ]
    }
   ],
   "source": [
    "import pandas as pd\n",
    "import numpy as np\n",
    "\n",
    "sr = pd.Series(np.random.randint(10, 100, 4), \n",
    "               index=list('abcd'))\n",
    "\n",
    "for (i, v) in sr.iteritems():   #enumerate(sr)\n",
    "    print(f'{i}: {v}')"
   ]
  },
  {
   "cell_type": "code",
   "execution_count": 83,
   "metadata": {},
   "outputs": [
    {
     "data": {
      "text/plain": [
       "7.0"
      ]
     },
     "metadata": {},
     "output_type": "display_data"
    },
    {
     "data": {
      "text/plain": [
       "2.3333333333333335"
      ]
     },
     "metadata": {},
     "output_type": "display_data"
    },
    {
     "data": {
      "text/plain": [
       "3"
      ]
     },
     "metadata": {},
     "output_type": "display_data"
    },
    {
     "data": {
      "text/plain": [
       "5"
      ]
     },
     "metadata": {},
     "output_type": "display_data"
    },
    {
     "data": {
      "text/plain": [
       "nan"
      ]
     },
     "metadata": {},
     "output_type": "display_data"
    },
    {
     "data": {
      "text/plain": [
       "nan"
      ]
     },
     "metadata": {},
     "output_type": "display_data"
    }
   ],
   "source": [
    "import pandas as pd\n",
    "import numpy as np\n",
    "\n",
    "sr = pd.Series([np.nan, 1, 2, np.nan, 4], \n",
    "               index=list('abcde'))\n",
    "\n",
    "display(sr.sum(),\n",
    "        sr.mean(), \n",
    "        sr.count(), \n",
    "        sr.size)\n",
    "\n",
    "display(sr.sum(skipna=False),\n",
    "        sr.mean(skipna=False))"
   ]
  },
  {
   "cell_type": "code",
   "execution_count": 109,
   "metadata": {},
   "outputs": [
    {
     "data": {
      "text/plain": [
       "b    1.0\n",
       "c    2.0\n",
       "e    4.0\n",
       "dtype: float64"
      ]
     },
     "metadata": {},
     "output_type": "display_data"
    },
    {
     "data": {
      "text/plain": [
       "a    0.0\n",
       "b    1.0\n",
       "c    2.0\n",
       "d    0.0\n",
       "e    4.0\n",
       "dtype: float64"
      ]
     },
     "metadata": {},
     "output_type": "display_data"
    },
    {
     "data": {
      "text/plain": [
       "True"
      ]
     },
     "metadata": {},
     "output_type": "display_data"
    },
    {
     "data": {
      "text/plain": [
       "False"
      ]
     },
     "metadata": {},
     "output_type": "display_data"
    }
   ],
   "source": [
    "import pandas as pd\n",
    "import numpy as np\n",
    "\n",
    "sr1 = pd.Series([np.nan, 1, 2, np.nan, 4], \n",
    "                index=list('abcde'))\n",
    "\n",
    "sr2 = sr1.dropna()\n",
    "sr3 = sr1.fillna(0)\n",
    "\n",
    "display(sr2, \n",
    "        sr3, \n",
    "        sr1.hasnans, \n",
    "        sr2.hasnans)\n"
   ]
  }
 ],
 "metadata": {
  "kernelspec": {
   "display_name": "Python 3",
   "language": "python",
   "name": "python3"
  },
  "language_info": {
   "codemirror_mode": {
    "name": "ipython",
    "version": 3
   },
   "file_extension": ".py",
   "mimetype": "text/x-python",
   "name": "python",
   "nbconvert_exporter": "python",
   "pygments_lexer": "ipython3",
   "version": "3.7.3"
  }
 },
 "nbformat": 4,
 "nbformat_minor": 2
}
