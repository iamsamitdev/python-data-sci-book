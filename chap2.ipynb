{
 "cells": [
  {
   "cell_type": "code",
   "execution_count": 26,
   "metadata": {},
   "outputs": [
    {
     "name": "stdout",
     "output_type": "stream",
     "text": [
      "1  2  3  4  5  6  7  8  9  "
     ]
    }
   ],
   "source": [
    "a = range(1, 10)\n",
    "\n",
    "for x in a:\n",
    "    print(x, ' ', end='')\n"
   ]
  },
  {
   "cell_type": "code",
   "execution_count": 29,
   "metadata": {},
   "outputs": [
    {
     "data": {
      "text/plain": [
       "[1, True, 'Three', 4.5]"
      ]
     },
     "metadata": {},
     "output_type": "display_data"
    },
    {
     "name": "stdout",
     "output_type": "stream",
     "text": [
      "1  2.3  4  555  6.7  "
     ]
    }
   ],
   "source": [
    "a = [1, True, 'Three', 4.5]\n",
    "display(a)\n",
    "\n",
    "b = [1, 2.3, 4, 555, 6.7]\n",
    "for x in b:\n",
    "    print(x, ' ', end='')"
   ]
  },
  {
   "cell_type": "code",
   "execution_count": 36,
   "metadata": {},
   "outputs": [
    {
     "name": "stdout",
     "output_type": "stream",
     "text": [
      "colors[1][0] = black\n"
     ]
    }
   ],
   "source": [
    "colors = [['red', 'green', 'blue'], ['black', 'white']]\n",
    "\n",
    "for i in range(0, len(colors)):\n",
    "    for j in range(0, len(colors[i])):\n",
    "        if colors[i][j] == 'black':\n",
    "            print(f'colors[{i}][{j}] = black')\n"
   ]
  },
  {
   "cell_type": "code",
   "execution_count": 42,
   "metadata": {},
   "outputs": [
    {
     "data": {
      "text/plain": [
       "(1, 3, 5, 7, 9)"
      ]
     },
     "metadata": {},
     "output_type": "display_data"
    },
    {
     "name": "stdout",
     "output_type": "stream",
     "text": [
      "2  4  6  8  10  "
     ]
    }
   ],
   "source": [
    "odd_nums = (1, 3, 5, 7, 9)\n",
    "display(odd_nums)\n",
    "\n",
    "even_nums = (2, 4, 6, 8, 10)\n",
    "for n in even_nums:\n",
    "    print(n, ' ', end='')"
   ]
  },
  {
   "cell_type": "code",
   "execution_count": 1,
   "metadata": {},
   "outputs": [
    {
     "data": {
      "text/plain": [
       "{'th': 'Thailand', 'jp': 'Japan', 'kr': 'Korea'}"
      ]
     },
     "metadata": {},
     "output_type": "display_data"
    },
    {
     "name": "stdout",
     "output_type": "stream",
     "text": [
      "odd : 1 3 5 7 9 \n",
      "even : 2 4 6 8 \n"
     ]
    }
   ],
   "source": [
    "countries = {'th':'Thailand', 'jp':'Japan', 'kr':'Korea'}\n",
    "display(countries)\n",
    "\n",
    "odd_evens = {'odd':[1, 3, 5, 7 ,9], 'even':[2, 4, 6, 8]}\n",
    "for key in odd_evens:\n",
    "    print(key, ': ', end='')\n",
    "    for v in odd_evens[key]:\n",
    "        print(v, '', end='')\n",
    "\n",
    "    print()"
   ]
  },
  {
   "cell_type": "code",
   "execution_count": 54,
   "metadata": {},
   "outputs": [
    {
     "name": "stdout",
     "output_type": "stream",
     "text": [
      "a = 29\n",
      "b = 0.2554933713711417\n",
      "c = 7.708758079220123\n",
      "d = 108\n"
     ]
    }
   ],
   "source": [
    "import random\n",
    "\n",
    "a = random.randint(1, 100)\n",
    "print('a =', a)\n",
    "\n",
    "b = random.random()\n",
    "print('b =', b)\n",
    "\n",
    "c = random.uniform(1, 10)\n",
    "print('c =', c)\n",
    "\n",
    "d = random.choice([7, 11, 101, 108, 1009])\n",
    "print('d =', d)\n"
   ]
  }
 ],
 "metadata": {
  "kernelspec": {
   "display_name": "Python 3",
   "language": "python",
   "name": "python3"
  },
  "language_info": {
   "codemirror_mode": {
    "name": "ipython",
    "version": 3
   },
   "file_extension": ".py",
   "mimetype": "text/x-python",
   "name": "python",
   "nbconvert_exporter": "python",
   "pygments_lexer": "ipython3",
   "version": "3.7.3"
  }
 },
 "nbformat": 4,
 "nbformat_minor": 2
}
