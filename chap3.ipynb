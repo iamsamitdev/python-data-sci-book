{
 "cells": [
  {
   "cell_type": "code",
   "execution_count": 58,
   "metadata": {},
   "outputs": [],
   "source": [
    "import numpy as np\n"
   ]
  },
  {
   "cell_type": "code",
   "execution_count": 8,
   "metadata": {},
   "outputs": [
    {
     "data": {
      "text/plain": [
       "array([[  1, 111,   4],\n",
       "       [  1,   3,   5]])"
      ]
     },
     "metadata": {},
     "output_type": "display_data"
    },
    {
     "data": {
      "text/plain": [
       "array([[  1, 111,   4],\n",
       "       [  1,   3,   5]])"
      ]
     },
     "metadata": {},
     "output_type": "display_data"
    }
   ],
   "source": [
    "import numpy as np\n",
    "\n",
    "a = np.array([[1, 2, 4], [1, 3, 5]])\n",
    "a2 = a.view()   #shallow copy\n",
    "a3 = a.copy()   #deep copy\n",
    "\n",
    "a2[0][1] = 111\n",
    "display(a)\n",
    "\n",
    "a3[0][1] = 101\n",
    "display(a)"
   ]
  },
  {
   "cell_type": "code",
   "execution_count": 2,
   "metadata": {},
   "outputs": [
    {
     "name": "stdout",
     "output_type": "stream",
     "text": [
      "[1 3 5]\n",
      "\n",
      "[2.  4.  6.3]\n",
      "\n",
      "[ 1  2  3  4  5  6  7  8  9 10]\n",
      "\n",
      "[  7  11 101 555]\n",
      "\n",
      "[ 3  6  9 12 15]\n"
     ]
    }
   ],
   "source": [
    "import numpy as np\n",
    "\n",
    "list = [1, 3, 5]\n",
    "a1 = np.array(list)\n",
    "\n",
    "a2 = np.array([2, 4, 6])\n",
    "a3 = np.array(range(1, 11))\n",
    "\n",
    "a4 = np.array((7, 11, 101, 555))\n",
    "\n",
    "a5 = np.array([3 * x for x in range(1, 6)])\n",
    "\n",
    "print(a1, a2, a3, a4, a5, sep='\\n\\n')"
   ]
  },
  {
   "cell_type": "code",
   "execution_count": 2,
   "metadata": {},
   "outputs": [
    {
     "name": "stdout",
     "output_type": "stream",
     "text": [
      "[1.  2.5 0. ]\n",
      "\n",
      "['1' 'True' 'Three' '4.5']\n",
      "\n",
      "[ 0  1 10]\n"
     ]
    }
   ],
   "source": [
    "import numpy as np\n",
    "\n",
    "a = np.array([1, 2.5, 0])\n",
    "\n",
    "b = np.array([1, True, 'Three', 4.5])\n",
    "\n",
    "c = np.array([False, True, 10])\n",
    "\n",
    "print(a, b, c, sep='\\n\\n')\n",
    "\n",
    "#print(a.dtype, b.dtype, c.dtype, sep='\\n')"
   ]
  },
  {
   "cell_type": "code",
   "execution_count": 57,
   "metadata": {},
   "outputs": [
    {
     "name": "stdout",
     "output_type": "stream",
     "text": [
      "[1. 2. 3. 4. 5.]\n",
      "\n",
      "[1 3 5 9]\n",
      "\n",
      "[ True  True False  True  True  True]\n"
     ]
    }
   ],
   "source": [
    "import numpy as np\n",
    "\n",
    "a = np.array([1, 2, 3, 4, 5], dtype=float)\n",
    "\n",
    "b = np.array([1.2, 3.141, 5.55, 9.99], dtype='i')\n",
    "\n",
    "c = np.array([-5, -1, 0, 1, 1.5, 10], dtype=np.bool)\n",
    "\n",
    "print(a, b, c, sep='\\n\\n')"
   ]
  },
  {
   "cell_type": "code",
   "execution_count": 62,
   "metadata": {},
   "outputs": [
    {
     "ename": "ValueError",
     "evalue": "invalid literal for int() with base 10: 'Three'",
     "output_type": "error",
     "traceback": [
      "\u001b[1;31m---------------------------------------------------------------------------\u001b[0m",
      "\u001b[1;31mValueError\u001b[0m                                Traceback (most recent call last)",
      "\u001b[1;32m<ipython-input-62-3ac87ee9f3ba>\u001b[0m in \u001b[0;36m<module>\u001b[1;34m\u001b[0m\n\u001b[0;32m      1\u001b[0m \u001b[1;32mimport\u001b[0m \u001b[0mnumpy\u001b[0m \u001b[1;32mas\u001b[0m \u001b[0mnp\u001b[0m\u001b[1;33m\u001b[0m\u001b[1;33m\u001b[0m\u001b[0m\n\u001b[0;32m      2\u001b[0m \u001b[1;33m\u001b[0m\u001b[0m\n\u001b[1;32m----> 3\u001b[1;33m \u001b[0ma\u001b[0m \u001b[1;33m=\u001b[0m \u001b[0mnp\u001b[0m\u001b[1;33m.\u001b[0m\u001b[0marray\u001b[0m\u001b[1;33m(\u001b[0m\u001b[1;33m[\u001b[0m\u001b[1;36m1\u001b[0m\u001b[1;33m,\u001b[0m \u001b[1;32mTrue\u001b[0m\u001b[1;33m,\u001b[0m \u001b[1;34m'Three'\u001b[0m\u001b[1;33m]\u001b[0m\u001b[1;33m,\u001b[0m \u001b[0mdtype\u001b[0m\u001b[1;33m=\u001b[0m\u001b[0mint\u001b[0m\u001b[1;33m)\u001b[0m\u001b[1;33m\u001b[0m\u001b[1;33m\u001b[0m\u001b[0m\n\u001b[0m\u001b[0;32m      4\u001b[0m \u001b[0ma\u001b[0m\u001b[1;33m\u001b[0m\u001b[1;33m\u001b[0m\u001b[0m\n",
      "\u001b[1;31mValueError\u001b[0m: invalid literal for int() with base 10: 'Three'"
     ]
    }
   ],
   "source": [
    "import numpy as np\n",
    "\n",
    "a = np.array([1, True, 'Three'], dtype=int)\n",
    "a"
   ]
  },
  {
   "cell_type": "code",
   "execution_count": 71,
   "metadata": {},
   "outputs": [
    {
     "name": "stdout",
     "output_type": "stream",
     "text": [
      "[1 3 5 7]\n",
      "\n",
      "[  7.  11. 101. 555.]\n"
     ]
    }
   ],
   "source": [
    "import numpy as np\n",
    "\n",
    "a = np.array([1.2, 3.141, 5.55, 7.11])\n",
    "a2 = a.astype(int)\n",
    "\n",
    "b = np.array([7, 11, 101, 555])\n",
    "b2 = b.astype('f')\n",
    "\n",
    "print(a2, b2, sep='\\n\\n')"
   ]
  },
  {
   "cell_type": "code",
   "execution_count": 82,
   "metadata": {},
   "outputs": [
    {
     "name": "stdout",
     "output_type": "stream",
     "text": [
      "[0. 0. 0. 0. 0.]\n",
      "\n",
      "[0 0 0 0 0]\n",
      "\n",
      "[1. 1. 1. 1. 1.]\n",
      "\n",
      "[1 1 1 1 1]\n",
      "\n",
      "[10 10 10 10 10]\n",
      "\n",
      "[1.5 1.5 1.5 1.5 1.5]\n",
      "\n",
      "[2 2 2 2 2]\n"
     ]
    }
   ],
   "source": [
    "import numpy as np\n",
    "\n",
    "z = np.zeros(5)\n",
    "zi = np.zeros(5, dtype=int)\n",
    "\n",
    "o = np.ones(5)\n",
    "oi = np.ones(5, dtype=int)\n",
    "\n",
    "f1 = np.full(5, 10)\n",
    "f2 = np.full(5, 1.5)\n",
    "f3 = np.full(5, 2.5, dtype=int)\n",
    "\n",
    "\n",
    "print(z, zi, o, oi, f1, f2, f3, sep='\\n\\n')"
   ]
  },
  {
   "cell_type": "code",
   "execution_count": 125,
   "metadata": {},
   "outputs": [
    {
     "name": "stdout",
     "output_type": "stream",
     "text": [
      "[1 2 3 4 5 6 7 8 9]\n",
      "\n",
      "[1 3 5 7 9]\n",
      "\n",
      "[1.  3.5 6.  8.5]\n",
      "\n",
      "[10  7  4]\n",
      "\n",
      "[-10.5  -7.   -3.5   0.    3.5]\n",
      "\n",
      "[]\n"
     ]
    }
   ],
   "source": [
    "import numpy as np\n",
    "\n",
    "a = np.arange(1, 10)\n",
    "b = np.arange(1, 10, 2)\n",
    "c = np.arange(1, 10, 2.5)\n",
    "d = np.arange(10, 1, -3)\n",
    "e = np.arange(-10.5, 5.5, 3.5)\n",
    "f = np.arange(100, 1, 10)\n",
    "\n",
    "print(a, b, c, d, e, f, sep='\\n\\n')"
   ]
  },
  {
   "cell_type": "code",
   "execution_count": 123,
   "metadata": {},
   "outputs": [
    {
     "name": "stdout",
     "output_type": "stream",
     "text": [
      "[ 1.  4.  7. 10.]\n",
      "\n",
      "[ 1.   2.8  4.6  6.4  8.2 10. ]\n",
      "\n",
      "[ 1  4  7 10]\n",
      "\n",
      "[-10.  -6.  -2.   2.   6.  10.]\n",
      "\n",
      "[10.5   8.25  6.    3.75  1.5 ]\n"
     ]
    }
   ],
   "source": [
    "import numpy as np\n",
    "\n",
    "a1 = np.linspace(1, 10, 4)\n",
    "a2 = np.linspace(1, 10, 6)\n",
    "a3 = np.linspace(1, 10, 4, dtype=int)\n",
    "a4 = np.linspace(-10, 10, 6)\n",
    "a5 = np.linspace(10.5, 1.5, 5)\n",
    "\n",
    "print(a1, a2, a3, a4, a5, sep='\\n\\n')"
   ]
  },
  {
   "cell_type": "code",
   "execution_count": 21,
   "metadata": {},
   "outputs": [
    {
     "name": "stdout",
     "output_type": "stream",
     "text": [
      "[84 10 52 92 15 32 94 62 32 54]\n",
      "\n",
      "[ 8 10  9  1 10  1  3  7  5  9]\n",
      "\n",
      "[-3  0  4 -3 -8  2  0  4 -1  0]\n"
     ]
    }
   ],
   "source": [
    "import numpy as np\n",
    "\n",
    "a = np.random.randint(10, 100, 10)  \n",
    "b = np.random.randint(1, 11, 10)\n",
    "c = np.random.randint(-10, 5, 10)\n",
    "\n",
    "print(a, b, c, sep='\\n\\n')"
   ]
  },
  {
   "cell_type": "code",
   "execution_count": 77,
   "metadata": {},
   "outputs": [
    {
     "name": "stdout",
     "output_type": "stream",
     "text": [
      "[24.19922663 45.00759783 56.37165861 78.1849762  78.79225503 81.60495672\n",
      " 22.1157477  31.23153399 61.05413606 39.97717941]\n",
      "\n",
      "[ 9.93422234  4.94941905  3.55124965  5.79786114  2.87066466 10.09241789\n",
      "  4.37498805  4.27783103  7.38313702  6.35633319]\n",
      "\n",
      "[ 2.12163507  2.17016099 -5.96939057  2.25265925 -5.82338241 -2.24977531\n",
      "  2.02252299 -1.3321545  -7.64202545 -1.09522574]\n"
     ]
    }
   ],
   "source": [
    "import numpy as np\n",
    "\n",
    "a = np.random.uniform(10, 100, 10)  \n",
    "b = np.random.uniform(1, 11, 10)\n",
    "c = np.random.uniform(-10, 5, 10)\n",
    "\n",
    "print(a, b, c, sep='\\n\\n')"
   ]
  },
  {
   "cell_type": "code",
   "execution_count": 230,
   "metadata": {},
   "outputs": [
    {
     "name": "stdout",
     "output_type": "stream",
     "text": [
      "[0.69010545 0.26389235 0.50765557 0.03477166 0.8943677  0.5120075\n",
      " 0.20516458 0.41520263 0.96171054 0.1225382 ]\n",
      "\n",
      "[   7  101    7  108  555 1009  108 1009  108   11]\n",
      "\n",
      "[ 3.141 -2.5    3.141  5.     1.    -2.5    1.   ]\n"
     ]
    }
   ],
   "source": [
    "import numpy as np\n",
    "\n",
    "a = np.random.rand(10)\n",
    "b = np.random.choice([7, 11, 101, 108, 1009, 555], 10)\n",
    "c = np.random.choice((-10, -2.5, 0, 1, 3.141, 5), 7)\n",
    "\n",
    "print(a, b, c, sep='\\n\\n')"
   ]
  },
  {
   "cell_type": "code",
   "execution_count": 7,
   "metadata": {},
   "outputs": [
    {
     "name": "stdout",
     "output_type": "stream",
     "text": [
      "7\n",
      "11\n",
      "108\n",
      "1009\n",
      "101\n",
      "555\n",
      "\n",
      "0: 7\n",
      "1: 11\n",
      "2: 108\n",
      "3: 1009\n",
      "4: 101\n",
      "5: 555\n"
     ]
    }
   ],
   "source": [
    "import numpy as np\n",
    "\n",
    "arr = np.array([7, 11, 108, 1009, 101, 555])\n",
    "\n",
    "for value in arr:\n",
    "    print(value)\n",
    "\n",
    "print()\n",
    "\n",
    "for (index, value) in enumerate(arr):\n",
    "    print(f'{index}: {value}')"
   ]
  },
  {
   "cell_type": "code",
   "execution_count": 34,
   "metadata": {},
   "outputs": [
    {
     "name": "stdout",
     "output_type": "stream",
     "text": [
      "[ 360  404  555  747 1009 2020]\n",
      "\n",
      "[101 108 360 404 555 747]\n",
      "\n",
      "[   7  101  360  555 1009]\n",
      "\n",
      "[2020  747  404  108   11]\n",
      "\n",
      "[   7  108  555 2020]\n"
     ]
    }
   ],
   "source": [
    "import numpy as np\n",
    "\n",
    "arr = np.array([2, 7, 11, 101, 108, 360, 404, 555, 747, 1009, 2020])\n",
    "print(\n",
    "    arr[5:],\n",
    "    arr[3:9],\n",
    "    arr[1:10:2],\n",
    "    arr[10:1:-2],\n",
    "    arr[1:1000:3],\n",
    "    sep='\\n\\n')"
   ]
  },
  {
   "cell_type": "code",
   "execution_count": 30,
   "metadata": {},
   "outputs": [
    {
     "name": "stdout",
     "output_type": "stream",
     "text": [
      "[ 404  555  747 1009 2020]\n",
      "\n",
      "[ 11 101 108 360 404 555]\n",
      "\n",
      "[   7  101  360  555 1009]\n",
      "\n",
      "[ 404  555  747 1009]\n",
      "\n",
      "[101 108 360 404 555]\n"
     ]
    }
   ],
   "source": [
    "import numpy as np\n",
    "\n",
    "arr = np.array([2, 7, 11, 101, 108, 360, 404, 555, 747, 1009, 2020])\n",
    "print(\n",
    "    arr[-5:],\n",
    "    arr[-9:-3],\n",
    "    arr[-10:-1:2],\n",
    "    arr[-5:10],\n",
    "    arr[3:-3],\n",
    "    sep='\\n\\n')"
   ]
  },
  {
   "cell_type": "code",
   "execution_count": 46,
   "metadata": {},
   "outputs": [
    {
     "name": "stdout",
     "output_type": "stream",
     "text": [
      "[  2  11 108 747]\n",
      "\n",
      "[2020  404  108    7  747]\n",
      "\n",
      "[ 555  101 1009    7]\n"
     ]
    }
   ],
   "source": [
    "import numpy as np\n",
    "\n",
    "arr = np.array([2, 7, 11, 101, 108, 360, 404, 555, 747, 1009, 2020])\n",
    "\n",
    "idx = [0, 2, 4, 8]\n",
    "a = arr[idx]\n",
    "\n",
    "idx2 = np.array([-1, -5, -7, -10, -3])\n",
    "b = arr[idx2]\n",
    "\n",
    "c  = arr[[7, 3, 9, 1]]\n",
    "\n",
    "print(a, b, c, sep='\\n\\n')"
   ]
  },
  {
   "cell_type": "code",
   "execution_count": 48,
   "metadata": {},
   "outputs": [
    {
     "name": "stdout",
     "output_type": "stream",
     "text": [
      "[38 39 32 91 58 36 40 25 38 32]\n",
      "\n",
      "1444\n",
      "\n",
      "[19.  19.5 16.  45.5 29. ]\n",
      "\n",
      "[195 455 180 125 160]\n",
      "\n",
      "[-1 -4 33  6]\n"
     ]
    }
   ],
   "source": [
    "import numpy as np\n",
    "\n",
    "arr = np.random.randint(10, 101, 10)\n",
    "\n",
    "a = arr[0] ** 2\n",
    "b = arr[:5] / 2\n",
    "c = arr[1::2] * 5\n",
    "d = arr[[0, 2, 4, 8]] - arr[[1, 5, 7, 9]]\n",
    "\n",
    "print(arr, a, b, c, d, sep='\\n\\n')"
   ]
  },
  {
   "cell_type": "code",
   "execution_count": 72,
   "metadata": {},
   "outputs": [
    {
     "name": "stdout",
     "output_type": "stream",
     "text": [
      "[100  35  17  26  35  31  84  34  24  78]\n",
      "\n",
      "[100  84  78]\n",
      "\n",
      "[100  26  84  34  24  78]\n",
      "\n",
      "[35 26 35 31 34 24]\n",
      "\n",
      "[100  35  17  26  35  31  84  34  24  78]\n"
     ]
    }
   ],
   "source": [
    "import numpy as np\n",
    "\n",
    "arr = np.random.randint(10, 101, 10)\n",
    "\n",
    "a = arr[arr >= 50]\n",
    "\n",
    "b = arr[arr % 2 == 0]\n",
    "\n",
    "c = arr[(arr > 20) & (arr < 60)]\n",
    "\n",
    "d = arr[(arr != 33) | (arr != 51) | (arr != 89)]\n",
    "\n",
    "print(arr, a, b, c, d, sep='\\n\\n')"
   ]
  },
  {
   "cell_type": "code",
   "execution_count": 6,
   "metadata": {},
   "outputs": [
    {
     "name": "stdout",
     "output_type": "stream",
     "text": [
      "[[0 0 0 0]\n",
      " [0 0 0 0]\n",
      " [0 0 0 0]]\n",
      "\n",
      "[[1 1 1 1 1 1]\n",
      " [1 1 1 1 1 1]\n",
      " [1 1 1 1 1 1]\n",
      " [1 1 1 1 1 1]]\n",
      "\n",
      "[[10 10 10 10]\n",
      " [10 10 10 10]\n",
      " [10 10 10 10]\n",
      " [10 10 10 10]]\n"
     ]
    }
   ],
   "source": [
    "import numpy as np\n",
    "\n",
    "a0 = np.zeros([3, 4], dtype=int)\n",
    "a1 = np.ones([4, 6], dtype=int)\n",
    "af = np.full((4, 4), 10)\n",
    "\n",
    "print(a0, a1, af, sep='\\n\\n')"
   ]
  },
  {
   "cell_type": "code",
   "execution_count": 7,
   "metadata": {},
   "outputs": [
    {
     "name": "stdout",
     "output_type": "stream",
     "text": [
      "[[81 31 77 24 91]\n",
      " [60 62 66 12 68]\n",
      " [98 53 27 57 84]\n",
      " [20 86 82 95 38]\n",
      " [31 24 94 61 26]]\n",
      "\n",
      "[[ 7.07105254  5.8015191   7.15388813  7.75315294 10.82119377]\n",
      " [ 6.32012535  7.52073085 10.4744276   7.10430196  8.85715928]\n",
      " [ 4.42065821 10.14763457  8.68297172  6.41645912  3.70392707]\n",
      " [ 7.99033588  2.63289794  1.61727172  3.44699341  6.74173441]]\n",
      "\n",
      "[[0.09797336 0.73983085 0.99289844 0.03756859 0.06547928]\n",
      " [0.90778141 0.5606727  0.82222163 0.98642227 0.39381183]\n",
      " [0.7632872  0.84030859 0.75229086 0.53871129 0.62038308]\n",
      " [0.20687485 0.76428563 0.35953861 0.8148218  0.22101333]\n",
      " [0.03694924 0.83149091 0.86537093 0.85587959 0.57091115]\n",
      " [0.57736582 0.80869615 0.22346713 0.11388408 0.74883938]]\n",
      "\n",
      "[[ -2.57   33.     -2.57    0.357]\n",
      " [  3.141 -10.     33.    -10.   ]\n",
      " [  0.357   3.141   3.141   0.357]]\n"
     ]
    }
   ],
   "source": [
    "import numpy as np\n",
    "\n",
    "rand_int = np.random.randint(10, 101, [5, 5])\n",
    "uniform = np.random.uniform(1, 11, (4, 5))\n",
    "rand = np.random.rand(6, 5)\n",
    "choice = np.random.choice([3.141, 0.357, -10, 9.99, 33, -2.57], \n",
    "                          (3, 4))\n",
    "\n",
    "print(rand_int, uniform, rand, choice, sep='\\n\\n')"
   ]
  },
  {
   "cell_type": "code",
   "execution_count": 20,
   "metadata": {},
   "outputs": [
    {
     "name": "stdout",
     "output_type": "stream",
     "text": [
      "[[ 21 100  43]\n",
      " [ 29  38  79]\n",
      " [ 69  97  28]\n",
      " [ 60  53  89]]\n",
      "\n",
      "[[ 21 100  43  29]\n",
      " [ 38  79  69  97]\n",
      " [ 28  60  53  89]]\n",
      "\n",
      "[[ 42 200  86]\n",
      " [ 58  76 158]\n",
      " [138 194  56]\n",
      " [120 106 178]]\n",
      "\n",
      "[[ 42 200  86  58]\n",
      " [ 76 158 138 194]\n",
      " [ 56 120 106 178]]\n"
     ]
    }
   ],
   "source": [
    "import numpy as np\n",
    "\n",
    "arr1 = np.random.randint(10, 101, [4, 3])\n",
    "arr2 = arr1.reshape(3, 4)\n",
    "\n",
    "print(arr1, arr2, sep='\\n\\n')\n",
    "\n",
    "arr2 *= 2\n",
    "\n",
    "print()\n",
    "print(arr1, arr2, sep='\\n\\n')"
   ]
  },
  {
   "cell_type": "code",
   "execution_count": 11,
   "metadata": {},
   "outputs": [
    {
     "name": "stdout",
     "output_type": "stream",
     "text": [
      "[[10  7  4  9]\n",
      " [ 7  9  2  5]\n",
      " [ 6  8  7  4]]\n",
      "\n",
      "10\n",
      "\n",
      "5\n",
      "\n",
      "7\n"
     ]
    }
   ],
   "source": [
    "import numpy as np\n",
    "\n",
    "a = np.random.randint(1, 11, [3, 4])\n",
    "\n",
    "print(a,\n",
    "      a[0, 0],\n",
    "      a[1, 3],\n",
    "      a[2, 2],\n",
    "      sep='\\n\\n')"
   ]
  },
  {
   "cell_type": "code",
   "execution_count": 36,
   "metadata": {},
   "outputs": [
    {
     "name": "stdout",
     "output_type": "stream",
     "text": [
      "[[ 9  6  8  4]\n",
      " [ 7  8 10  9]\n",
      " [ 2  4  6  6]]\n",
      "\n",
      "[[19 16 18 14]\n",
      " [17 18 20 19]\n",
      " [12 14 16 16]]\n",
      "\n",
      "[[20 30 10 20]\n",
      " [30 20 30 20]\n",
      " [20 30 20 30]]\n",
      "\n",
      "[[180 180  80  80]\n",
      " [210 160 300 180]\n",
      " [ 40 120 120 180]]\n"
     ]
    }
   ],
   "source": [
    "import numpy as np\n",
    "\n",
    "a = np.random.randint(1, 11, [3, 4])\n",
    "b = np.random.choice([10, 20, 30], [3, 4])\n",
    "\n",
    "print(a, \n",
    "      a + 10, \n",
    "      b, \n",
    "      a * b, \n",
    "      sep='\\n\\n')"
   ]
  },
  {
   "cell_type": "code",
   "execution_count": 27,
   "metadata": {},
   "outputs": [
    {
     "name": "stdout",
     "output_type": "stream",
     "text": [
      "[[ 2  3  7  1  4  8]\n",
      " [ 2  4  6  7  8  2]\n",
      " [ 8  9  7  3 10  6]\n",
      " [ 8 10  4  7  6  8]\n",
      " [ 3  4  9  7  1  2]\n",
      " [ 1  3  2 10  4  9]]\n",
      "\n",
      "[[6 7]\n",
      " [7 3]\n",
      " [4 7]\n",
      " [9 7]]\n",
      "\n",
      "[[ 7  1  4  8]\n",
      " [ 6  7  8  2]\n",
      " [ 7  3 10  6]\n",
      " [ 4  7  6  8]]\n",
      "\n",
      "[[ 2  7  4]\n",
      " [ 2  6  8]\n",
      " [ 8  7 10]\n",
      " [ 8  4  6]\n",
      " [ 3  9  1]\n",
      " [ 1  2  4]]\n"
     ]
    }
   ],
   "source": [
    "import numpy as np\n",
    "\n",
    "a = np.random.randint(1, 11, [6, 6])\n",
    "print(a,\n",
    "      a[1:5, 2:4],\n",
    "      a[:4, 2:],\n",
    "      a[::, :6:2],\n",
    "      sep='\\n\\n')\n"
   ]
  },
  {
   "cell_type": "code",
   "execution_count": 36,
   "metadata": {},
   "outputs": [
    {
     "name": "stdout",
     "output_type": "stream",
     "text": [
      "[[75 50 18 42]\n",
      " [92 76 51 85]\n",
      " [45 26 32 94]\n",
      " [22 90 44 52]]\n",
      "\n",
      "[92 85 94 90]\n",
      "\n",
      "[50 18 42 92 76 26 32 94 22 90 44 52]\n",
      "\n",
      "[50 18 42 51 45 26 32 22 44 52]\n"
     ]
    }
   ],
   "source": [
    "import numpy as np\n",
    "\n",
    "arr = np.random.randint(10, 101, [4, 4])\n",
    "\n",
    "a = arr[arr >= 80]\n",
    "b = arr[arr % 2 == 0]\n",
    "c = arr[(arr >= 0) & (arr < 60)]\n",
    "\n",
    "print(arr, a, b, c, sep='\\n\\n')"
   ]
  },
  {
   "cell_type": "code",
   "execution_count": 66,
   "metadata": {},
   "outputs": [
    {
     "name": "stdout",
     "output_type": "stream",
     "text": [
      "[7 3 7 5 4]\n",
      "\n",
      "[[2 4 7]\n",
      " [2 2 8]\n",
      " [7 8 7]]\n",
      "\n",
      "47\n",
      "\n",
      "[11 14 22]\n",
      "\n",
      "[13 12 22]\n"
     ]
    }
   ],
   "source": [
    "import numpy as np\n",
    "\n",
    "a1 = np.random.randint(1, 10, 5)\n",
    "s1 = np.sum(a1)\n",
    "\n",
    "a2 = np.random.randint(1, 10, (3, 3))\n",
    "s2 = np.sum(a2)\n",
    "\n",
    "s2_ax0 = np.sum(a2, axis=0)\n",
    "s2_ax1 = np.sum(a2, axis=1)\n",
    "\n",
    "print(a1, a2, s2, s2_ax0, s2_ax1, sep='\\n\\n')"
   ]
  },
  {
   "cell_type": "code",
   "execution_count": 69,
   "metadata": {},
   "outputs": [
    {
     "name": "stdout",
     "output_type": "stream",
     "text": [
      "[1 6 2 2 8]\n",
      "\n",
      "[ 1  7  9 11 19]\n",
      "\n",
      "[[8 2 6]\n",
      " [5 6 1]\n",
      " [6 2 8]]\n",
      "\n",
      "[ 8 10 16 21 27 28 34 36 44]\n",
      "\n",
      "[[ 8  2  6]\n",
      " [13  8  7]\n",
      " [19 10 15]]\n",
      "\n",
      "[[ 8 10 16]\n",
      " [ 5 11 12]\n",
      " [ 6  8 16]]\n"
     ]
    }
   ],
   "source": [
    "import numpy as np\n",
    "\n",
    "a1 = np.random.randint(1, 10, 5)\n",
    "cs1 = np.cumsum(a1)\n",
    "\n",
    "a2 = np.random.randint(1, 10, (3, 3))\n",
    "cs2 = np.cumsum(a2)\n",
    "\n",
    "cs2_ax0 = np.cumsum(a2, axis=0)\n",
    "cs2_ax1 = np.cumsum(a2, axis=1)\n",
    "\n",
    "print(a1, cs1, a2, cs2, cs2_ax0, cs2_ax1, sep='\\n\\n')"
   ]
  },
  {
   "cell_type": "code",
   "execution_count": 10,
   "metadata": {},
   "outputs": [
    {
     "name": "stdout",
     "output_type": "stream",
     "text": [
      "[4 6 1 2 3]\n",
      "\n",
      "3.2\n",
      "\n",
      "[[5 7 7 4]\n",
      " [4 8 3 3]\n",
      " [8 2 2 3]\n",
      " [4 8 4 9]]\n",
      "\n",
      "5.0625\n",
      "\n",
      "[5.25 6.25 4.   4.75]\n",
      "\n",
      "[5.75 4.5  3.75 6.25]\n"
     ]
    }
   ],
   "source": [
    "import numpy as np\n",
    "\n",
    "a1 = np.random.randint(1, 10, 5)\n",
    "a1_mean = np.mean(a1)\n",
    "\n",
    "a2 = np.random.randint(1, 10, (4, 4))\n",
    "a2_mean = np.mean(a2)\n",
    "\n",
    "a2_mean_ax0 = np.mean(a2, axis=0)\n",
    "a2_mean_ax1 = np.mean(a2, axis=1)\n",
    "\n",
    "print(a1, a1_mean, \n",
    "      a2, a2_mean, \n",
    "      a2_mean_ax0, a2_mean_ax1, sep='\\n\\n')"
   ]
  },
  {
   "cell_type": "code",
   "execution_count": 9,
   "metadata": {},
   "outputs": [
    {
     "name": "stdout",
     "output_type": "stream",
     "text": [
      "[3 6 4 5 4]\n",
      "\n",
      "3\n",
      "\n",
      "6\n",
      "\n",
      "[[1 2 8 8]\n",
      " [7 1 3 6]\n",
      " [6 1 2 4]\n",
      " [2 5 8 5]]\n",
      "\n",
      "1\n",
      "\n",
      "8\n",
      "\n",
      "[1 1 2 4]\n",
      "\n",
      "[8 7 6 8]\n"
     ]
    }
   ],
   "source": [
    "import numpy as np\n",
    "\n",
    "a1 = np.random.randint(1, 10, 5)\n",
    "a1_min = np.min(a1)\n",
    "a1_max = np.max(a1)\n",
    "\n",
    "a2 = np.random.randint(1, 10, (4, 4))\n",
    "a2_min = np.min(a2)\n",
    "a2_max = np.max(a2)\n",
    "\n",
    "a2_min_ax0 = np.min(a2, axis=0)\n",
    "a2_max_ax1 = np.max(a2, axis=1)\n",
    "\n",
    "print(a1, a1_min, a1_max, \n",
    "      a2, a2_min, a2_max, \n",
    "      a2_min_ax0, a2_max_ax1, sep='\\n\\n')"
   ]
  },
  {
   "cell_type": "code",
   "execution_count": 3,
   "metadata": {},
   "outputs": [
    {
     "name": "stdout",
     "output_type": "stream",
     "text": [
      "[7 1 9 5 1]\n",
      "\n",
      "[1 1 5 7 9]\n",
      "\n",
      "[[8 2 9 9]\n",
      " [6 4 8 5]\n",
      " [9 9 6 4]\n",
      " [4 4 1 8]]\n",
      "\n",
      "[[4 2 1 4]\n",
      " [6 4 6 5]\n",
      " [8 4 8 8]\n",
      " [9 9 9 9]]\n",
      "\n",
      "[[2 8 9 9]\n",
      " [4 5 6 8]\n",
      " [4 6 9 9]\n",
      " [1 4 4 8]]\n"
     ]
    }
   ],
   "source": [
    "import numpy as np\n",
    "\n",
    "a1 = np.random.randint(1, 10, 5)\n",
    "a1_sort = np.sort(a1)\n",
    "\n",
    "a2 = np.random.randint(1, 10, (4, 4))\n",
    "a2_sort_ax0 = np.sort(a2, axis=0)\n",
    "a2_sort_ax1 = np.sort(a2, axis=1)\n",
    "\n",
    "print(a1, a1_sort, \n",
    "      a2, a2_sort_ax0, a2_sort_ax1, \n",
    "      sep='\\n\\n')"
   ]
  },
  {
   "cell_type": "code",
   "execution_count": 17,
   "metadata": {},
   "outputs": [
    {
     "name": "stdout",
     "output_type": "stream",
     "text": [
      "[30 30 30  5 10 15 15 10  5 30]\n",
      "\n",
      "[ 5 10 15 30]\n",
      "\n",
      "[[ 5  1 19 19  7]\n",
      " [12  9 12 19  5]\n",
      " [14 16  5  7 18]\n",
      " [14  1 18 10  4]]\n",
      "\n",
      "[ 1  4  5  7  9 10 12 14 16 18 19]\n"
     ]
    }
   ],
   "source": [
    "import numpy as np\n",
    "\n",
    "a1 = np.random.choice([5, 10, 15, 20, 25, 30], 10)\n",
    "a1_uq = np.unique(a1)\n",
    "\n",
    "a2 = np.random.randint(1, 21, [4, 5])\n",
    "a2_uq = np.unique(a2)\n",
    "\n",
    "print(a1, a1_uq, \n",
    "      a2, a2_uq, sep='\\n\\n')"
   ]
  },
  {
   "cell_type": "code",
   "execution_count": 23,
   "metadata": {},
   "outputs": [
    {
     "name": "stdout",
     "output_type": "stream",
     "text": [
      "[13 18 15 10 10]\n",
      "\n",
      "[2 3 2 7]\n",
      "\n",
      "[13 18 15 10 10  2  3  2  7]\n"
     ]
    }
   ],
   "source": [
    "import numpy as np\n",
    "\n",
    "a1_1 = np.random.randint(10, 21, 5)\n",
    "a1_2 = np.random.randint(1, 11, 4)\n",
    "\n",
    "a1_concat = np.concatenate([a1_1, a1_2])\n",
    "\n",
    "print(a1_1, a1_2, a1_concat, sep='\\n\\n')"
   ]
  },
  {
   "cell_type": "code",
   "execution_count": 29,
   "metadata": {},
   "outputs": [
    {
     "name": "stdout",
     "output_type": "stream",
     "text": [
      "[[7 1]\n",
      " [3 8]]\n",
      "\n",
      "[[0.   2.75]\n",
      " [2.75 5.55]]\n",
      "\n",
      "[[7.   1.  ]\n",
      " [3.   8.  ]\n",
      " [0.   2.75]\n",
      " [2.75 5.55]]\n"
     ]
    }
   ],
   "source": [
    "import numpy as np\n",
    "\n",
    "a2_1 = np.random.randint(1, 10, (2, 2))\n",
    "a2_2 = np.random.choice([-3, -1.5, 0, 2.75, 3.141, 5.55], (2, 2))\n",
    "a2_concat = np.concatenate([a2_1, a2_2])\n",
    "\n",
    "print(a2_1, a2_2, a2_concat, sep='\\n\\n')"
   ]
  },
  {
   "cell_type": "code",
   "execution_count": 35,
   "metadata": {},
   "outputs": [
    {
     "name": "stdout",
     "output_type": "stream",
     "text": [
      "[[8 2]\n",
      " [6 6]]\n",
      "\n",
      "[[ 1 -5]\n",
      " [ 3 -5]]\n",
      "\n",
      "[[ 8  2]\n",
      " [ 6  6]\n",
      " [ 1 -5]\n",
      " [ 3 -5]]\n",
      "\n",
      "[[ 8  2  1 -5]\n",
      " [ 6  6  3 -5]]\n"
     ]
    }
   ],
   "source": [
    "import numpy as np\n",
    "\n",
    "a = np.random.randint(1, 10, (2, 2))\n",
    "b = np.random.choice([-10, -5, 0, 1, 3, 7], (2, 2))\n",
    "\n",
    "vstack = np.vstack([a, b])\n",
    "hstack = np.hstack([a, b])\n",
    "\n",
    "print(a, b, vstack, hstack, sep='\\n\\n')"
   ]
  },
  {
   "cell_type": "code",
   "execution_count": 42,
   "metadata": {},
   "outputs": [
    {
     "name": "stdout",
     "output_type": "stream",
     "text": [
      "[[6 8 7]\n",
      " [5 8 1]]\n",
      "\n",
      "[[6 8 7]\n",
      " [5 8 1]]\n",
      "\n",
      "[[555 555 555]\n",
      " [  5   8   1]]\n",
      "\n",
      "[[555 555 555]\n",
      " [  5   8   1]]\n"
     ]
    }
   ],
   "source": [
    "import numpy as np\n",
    "\n",
    "a = np.random.randint(1, 10, (2, 3))\n",
    "v = a.view()\n",
    "\n",
    "print(a, v, sep='\\n\\n', end='\\n\\n')\n",
    "\n",
    "a[0] = 555\n",
    "print(a, v, sep='\\n\\n')"
   ]
  },
  {
   "cell_type": "code",
   "execution_count": 47,
   "metadata": {},
   "outputs": [
    {
     "name": "stdout",
     "output_type": "stream",
     "text": [
      "[[9 4 2]\n",
      " [4 6 9]]\n",
      "\n",
      "[[9 4 2]\n",
      " [4 6 9]]\n",
      "\n",
      "[[555 555 555]\n",
      " [  4   6   9]]\n",
      "\n",
      "[[9 4 2]\n",
      " [4 6 9]]\n"
     ]
    }
   ],
   "source": [
    "import numpy as np\n",
    "\n",
    "a = np.random.randint(1, 10, (2, 3))\n",
    "c = a.copy()\n",
    "\n",
    "print(a, c, sep='\\n\\n', end='\\n\\n')\n",
    "\n",
    "a[0] = 555\n",
    "print(a, c, sep='\\n\\n')"
   ]
  },
  {
   "cell_type": "code",
   "execution_count": 25,
   "metadata": {},
   "outputs": [
    {
     "name": "stdout",
     "output_type": "stream",
     "text": [
      "[[ 1  2  3  4  5]\n",
      " [ 6  7  8  9 10]]\n",
      "\n",
      "[[6 3 4 5 6 8]\n",
      " [4 5 6 1 3 3]]\n",
      "\n",
      "[[6 3 4 5]\n",
      " [6 8 4 5]\n",
      " [6 1 3 3]]\n",
      "\n",
      "[[555   3   4   5   6   8]\n",
      " [  4   5   6   1   3   3]]\n",
      "\n",
      "[[555   3   4   5]\n",
      " [  6   8   4   5]\n",
      " [  6   1   3   3]]\n",
      "\n"
     ]
    }
   ],
   "source": [
    "import numpy as np\n",
    "\n",
    "a1 = np.arange(1, 11) #.reshape([2, 5])\n",
    "ar = np.reshape(a1, [2, 5])\n",
    "print(ar, end='\\n\\n')\n",
    "#ฟังก์ชัน arange(1, 11) จะได้อาร์เรย์มิติเดียว\n",
    "#ที่มีจำนวนสมาชิก 10 ตัว แล้วใช้ reshape(2, 5)\n",
    "#เพื่อเปลี่ยนเป็นอาร์เรย์ 2 มิติขนาด 2 x 5 หรือเขียนเป็น \n",
    "#ar = np.arange(1, 11).reshape([2, 5])\n",
    "\n",
    "a2 = np.random.randint(1, 10, (2, 6))\n",
    "b = np.reshape(a2, [3, 4])\n",
    "print(a2, b, sep='\\n\\n', end='\\n\\n')\n",
    "\n",
    "a2[0, 0] = 555\n",
    "print(a2, b, sep='\\n\\n', end='\\n\\n')\n"
   ]
  },
  {
   "cell_type": "code",
   "execution_count": 20,
   "metadata": {},
   "outputs": [
    {
     "name": "stdout",
     "output_type": "stream",
     "text": [
      "[ 1  2  3  4  5  6  7  8  9 10 11 12]\n",
      "\n",
      "[[ 1  2  3  4  5  6]\n",
      " [ 7  8  9 10 11 12]]\n",
      "\n",
      "[[ 1  2  3]\n",
      " [ 4  5  6]\n",
      " [ 7  8  9]\n",
      " [10 11 12]]\n",
      "\n",
      "[[ 1  2  3]\n",
      " [ 4  5  6]\n",
      " [ 7  8  9]\n",
      " [10 11 12]]\n",
      "\n",
      "[[ 1  2  3  4  5  6]\n",
      " [ 7  8  9 10 11 12]]\n"
     ]
    }
   ],
   "source": [
    "import numpy as np\n",
    "\n",
    "arr = np.arange(1, 13) \n",
    "\n",
    "a = np.reshape(arr, [2, -1])  #เทียบเท่า [2, 6]\n",
    "b = np.reshape(arr, [4, -1])  #เทียบเท่า [4, 3]\n",
    "\n",
    "c = np.reshape(arr, [-1, 3])  #เทียบเท่า [4, 3]\n",
    "d = np.reshape(arr, [-1, 6])  #เทียบเท่า [2, 6]\n",
    "\n",
    "print(a1, a, b, c, d, sep='\\n\\n')"
   ]
  },
  {
   "cell_type": "code",
   "execution_count": 19,
   "metadata": {},
   "outputs": [
    {
     "name": "stdout",
     "output_type": "stream",
     "text": [
      "[[2 9 6]\n",
      " [4 2 8]\n",
      " [4 2 2]\n",
      " [1 8 1]]\n",
      "\n",
      "[[2 9 6 4 2 8]\n",
      " [4 2 2 1 8 1]]\n",
      "\n",
      "[[555   9   6]\n",
      " [  4   2   8]\n",
      " [  4   2   2]\n",
      " [  1   8   1]]\n",
      "\n",
      "[[2 9 6 4 2 8]\n",
      " [4 2 2 1 8 1]]\n",
      "\n"
     ]
    }
   ],
   "source": [
    "import numpy as np\n",
    "\n",
    "a = np.random.randint(1, 10, (4, 3))\n",
    "b = np.resize(a, [2, 6])\n",
    "print(a, b, sep='\\n\\n', end='\\n\\n')\n",
    "\n",
    "a[0,0] = 555\n",
    "print(a, b, sep='\\n\\n', end='\\n\\n')"
   ]
  }
 ],
 "metadata": {
  "kernelspec": {
   "display_name": "Python 3",
   "language": "python",
   "name": "python3"
  },
  "language_info": {
   "codemirror_mode": {
    "name": "ipython",
    "version": 3
   },
   "file_extension": ".py",
   "mimetype": "text/x-python",
   "name": "python",
   "nbconvert_exporter": "python",
   "pygments_lexer": "ipython3",
   "version": "3.7.3"
  }
 },
 "nbformat": 4,
 "nbformat_minor": 2
}
