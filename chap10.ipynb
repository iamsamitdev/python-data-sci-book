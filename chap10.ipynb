{
 "cells": [
  {
   "cell_type": "code",
   "execution_count": 3,
   "metadata": {},
   "outputs": [
    {
     "data": {
      "text/plain": [
       "datetime.datetime(2020, 1, 9, 13, 36, 0, 495572)"
      ]
     },
     "metadata": {},
     "output_type": "display_data"
    },
    {
     "data": {
      "text/plain": [
       "datetime.date(2020, 1, 9)"
      ]
     },
     "metadata": {},
     "output_type": "display_data"
    },
    {
     "data": {
      "text/plain": [
       "datetime.time(13, 36, 0, 495572)"
      ]
     },
     "metadata": {},
     "output_type": "display_data"
    }
   ],
   "source": [
    "from datetime import datetime\n",
    "from datetime import date\n",
    "from datetime import time\n",
    "\n",
    "now = datetime.now()\n",
    "today = date.today()\n",
    "curtime = datetime.now().time()\n",
    "\n",
    "display(now, today, curtime)"
   ]
  },
  {
   "cell_type": "code",
   "execution_count": 4,
   "metadata": {},
   "outputs": [],
   "source": [
    "from datetime import datetime\n",
    "from datetime import date\n",
    "from datetime import time\n",
    "\n",
    "dt1 = datetime(2020, 7, 23)\n",
    "dt2 = datetime(2020, 7, 23, 12, 27)\n",
    "dt3 = datetime(2020, 7, 23, 12, 27, 59)\n",
    "\n",
    "d = date(2020, 7, 23)\n",
    "\n",
    "t1 = time(13)\n",
    "t2 = time(13, 35)           \n",
    "t3 = time(13, 35, 47)       \n"
   ]
  },
  {
   "cell_type": "code",
   "execution_count": 5,
   "metadata": {},
   "outputs": [
    {
     "ename": "ValueError",
     "evalue": "day is out of range for month",
     "output_type": "error",
     "traceback": [
      "\u001b[1;31m---------------------------------------------------------------------------\u001b[0m",
      "\u001b[1;31mValueError\u001b[0m                                Traceback (most recent call last)",
      "\u001b[1;32m<ipython-input-5-6636b7adea9d>\u001b[0m in \u001b[0;36m<module>\u001b[1;34m\u001b[0m\n\u001b[0;32m      3\u001b[0m \u001b[1;32mfrom\u001b[0m \u001b[0mdatetime\u001b[0m \u001b[1;32mimport\u001b[0m \u001b[0mtime\u001b[0m\u001b[1;33m\u001b[0m\u001b[1;33m\u001b[0m\u001b[0m\n\u001b[0;32m      4\u001b[0m \u001b[1;33m\u001b[0m\u001b[0m\n\u001b[1;32m----> 5\u001b[1;33m \u001b[0ma\u001b[0m \u001b[1;33m=\u001b[0m \u001b[0mdate\u001b[0m\u001b[1;33m(\u001b[0m\u001b[1;36m2021\u001b[0m\u001b[1;33m,\u001b[0m \u001b[1;36m2\u001b[0m\u001b[1;33m,\u001b[0m \u001b[1;36m29\u001b[0m\u001b[1;33m)\u001b[0m\u001b[1;33m\u001b[0m\u001b[1;33m\u001b[0m\u001b[0m\n\u001b[0m\u001b[0;32m      6\u001b[0m \u001b[0mb\u001b[0m \u001b[1;33m=\u001b[0m \u001b[0mdate\u001b[0m\u001b[1;33m(\u001b[0m\u001b[1;36m2020\u001b[0m\u001b[1;33m,\u001b[0m \u001b[1;36m9\u001b[0m\u001b[1;33m,\u001b[0m \u001b[1;36m31\u001b[0m\u001b[1;33m)\u001b[0m\u001b[1;33m\u001b[0m\u001b[1;33m\u001b[0m\u001b[0m\n\u001b[0;32m      7\u001b[0m \u001b[0mc\u001b[0m \u001b[1;33m=\u001b[0m \u001b[0mtime\u001b[0m\u001b[1;33m(\u001b[0m\u001b[1;36m24\u001b[0m\u001b[1;33m,\u001b[0m \u001b[1;36m0\u001b[0m\u001b[1;33m)\u001b[0m\u001b[1;33m\u001b[0m\u001b[1;33m\u001b[0m\u001b[0m\n",
      "\u001b[1;31mValueError\u001b[0m: day is out of range for month"
     ]
    }
   ],
   "source": [
    "from datetime import datetime\n",
    "from datetime import date\n",
    "from datetime import time\n",
    "\n",
    "a = date(2021, 2, 29)       \n",
    "b = date(2020, 9, 31)\n",
    "c = time(24, 0)\n"
   ]
  },
  {
   "cell_type": "code",
   "execution_count": 7,
   "metadata": {},
   "outputs": [
    {
     "name": "stdout",
     "output_type": "stream",
     "text": [
      "2020-02-14 12:22:32\n"
     ]
    }
   ],
   "source": [
    "from datetime import datetime\n",
    "from datetime import date\n",
    "from datetime import time\n",
    "\n",
    "dt = datetime(2020, 7, 23, 12, 22, 32)\n",
    "dt2 = dt.replace(year=2022)\n",
    "dt2 = dt.replace(month=2, day=14)\n",
    "print(dt2)\n",
    "\n",
    "d = date.today()\n",
    "d2 = d.replace(day=30)\n",
    "\n",
    "t = datetime.now().time()\n",
    "t2 = t.replace(minute=15)\n"
   ]
  },
  {
   "cell_type": "code",
   "execution_count": 1,
   "metadata": {},
   "outputs": [
    {
     "name": "stdout",
     "output_type": "stream",
     "text": [
      "23\n",
      "7\n",
      "2020\n",
      "3\n",
      "13\n"
     ]
    }
   ],
   "source": [
    "from datetime import datetime\n",
    "from datetime import date\n",
    "from datetime import time\n",
    "\n",
    "dt = datetime(2020, 7, 23, 12, 22, 32)\n",
    "print(dt.day)\n",
    "print(dt.month)\n",
    "\n",
    "d = datetime(2020, 7, 23)\n",
    "print(d.year)\n",
    "print(d.weekday())\n",
    "\n",
    "t = datetime.now().time()\n",
    "print(t.hour)"
   ]
  },
  {
   "cell_type": "code",
   "execution_count": 8,
   "metadata": {},
   "outputs": [
    {
     "name": "stdout",
     "output_type": "stream",
     "text": [
      "23\n",
      "7\n",
      "2020\n",
      "3\n",
      "13\n"
     ]
    }
   ],
   "source": [
    "from datetime import datetime\n",
    "from datetime import date\n",
    "from datetime import time\n",
    "\n",
    "dt = datetime(2020, 7, 23, 12, 22, 32)\n",
    "print(dt.day)\n",
    "print(dt.month)\n",
    "\n",
    "d = datetime(2020, 7, 23)\n",
    "print(d.year)\n",
    "print(d.weekday())\n",
    "\n",
    "t = datetime.now().time()\n",
    "print(t.hour)\n"
   ]
  },
  {
   "cell_type": "code",
   "execution_count": 9,
   "metadata": {},
   "outputs": [
    {
     "name": "stdout",
     "output_type": "stream",
     "text": [
      "weekday =>  พฤหัสบดี\n"
     ]
    }
   ],
   "source": [
    "from datetime import date\n",
    "\n",
    "wd = ['อาทิตย์', 'จันทร์', 'อังคาร', 'พุธ', 'พฤหัสบดี', 'ศุกร์' 'เสาร์']\n",
    "d = date(2020, 7, 23)\n",
    "w = d.weekday()\n",
    "if w == 6:\n",
    "    w = 0\n",
    "else:\n",
    "    w += 1\n",
    "\n",
    "print('weekday => ', wd[w])\n"
   ]
  },
  {
   "cell_type": "code",
   "execution_count": 14,
   "metadata": {},
   "outputs": [
    {
     "data": {
      "text/plain": [
       "'กรกฎาคม'"
      ]
     },
     "execution_count": 14,
     "metadata": {},
     "output_type": "execute_result"
    }
   ],
   "source": [
    "from datetime import date\n",
    "\n",
    "months = ['มกราคม', 'กุมภาพันธ์', 'มีนาคม', 'เมษายน', 'พฤษภาคม', 'มิถุนายน', \n",
    "          'กรกฎาคม', 'สิงหาคม', 'กันยายน', 'ตุลาคม', 'พฤศจิกายน', 'ธันวาคม']\n",
    "\n",
    "d = date(2020, 7, 23)\n",
    "month_name = months[d.month - 1]  #ต้องลบด้วย 1 เพราะลำดับของลิสต์อยู่ระหว่าง 0 - 11\n",
    "\n",
    "month_name"
   ]
  },
  {
   "cell_type": "code",
   "execution_count": 2,
   "metadata": {},
   "outputs": [
    {
     "name": "stdout",
     "output_type": "stream",
     "text": [
      "115 days, 0:00:00\n",
      "วันที่ 5 ธันวาคม และ 12 สิงหาคม ห่างกัน 3 เดือน 25 วัน\n",
      "17\n"
     ]
    }
   ],
   "source": [
    "from datetime import date\n",
    "from datetime import timedelta\n",
    "\n",
    "d1 = date(2020, 8, 12)\n",
    "d2 = date(2020, 12, 5)\n",
    "delta = d2 - d1\n",
    "print(delta)        \n",
    "\n",
    "days = delta.days   \n",
    "num_months = days // 30 \n",
    "num_days = days % 30\n",
    "print(f'วันที่ 5 ธันวาคม และ 12 สิงหาคม ห่างกัน {num_months} เดือน {num_days} วัน')\n",
    "\n",
    "birthday = date(2002, 3, 31)\n",
    "today = date.today()\n",
    "delta = today - birthday\n",
    "days = delta.days\n",
    "age = days // 365\n",
    "print(age)\n"
   ]
  },
  {
   "cell_type": "code",
   "execution_count": null,
   "metadata": {},
   "outputs": [],
   "source": [
    "from datetime import date\n",
    "from datetime import timedelta\n",
    "\n",
    "next_2_months = timedelta(days=60)         #อีก 60 วัน\n",
    "next_4_years = timedelta(days=4*365)       #อีก 4 ปี\n",
    "last_6_weeks = timedelta(weeks=-6)         #6 สัปดาห์ที่แล้ว (ติดลบ)\n",
    "next_12_5_hours = timedelta(hours=12.5)\n"
   ]
  },
  {
   "cell_type": "code",
   "execution_count": 15,
   "metadata": {},
   "outputs": [
    {
     "name": "stdout",
     "output_type": "stream",
     "text": [
      "2020-09-15\n"
     ]
    }
   ],
   "source": [
    "from datetime import date\n",
    "from datetime import timedelta\n",
    "\n",
    "d = date(2020, 7, 17)\n",
    "next_2_months = timedelta(days=60)\n",
    "next_d = d.__add__(next_2_months)\n",
    "\n",
    "print(next_d)"
   ]
  },
  {
   "cell_type": "code",
   "execution_count": 16,
   "metadata": {},
   "outputs": [
    {
     "name": "stdout",
     "output_type": "stream",
     "text": [
      "False\n",
      "True\n",
      "True\n",
      "False\n",
      "Error\n"
     ]
    }
   ],
   "source": [
    "from datetime import datetime\n",
    "from datetime import date\n",
    "\n",
    "d1 = date(2020, 7, 24)\n",
    "d2 = date(2020, 8, 12)\n",
    "print(d1 > d2)      \n",
    "print(d1 < d2)     \n",
    "\n",
    "dt1 = datetime(2020, 7, 24, 0, 0, 0)\n",
    "dt2 = datetime(2020, 7, 24)\n",
    "print(dt1 == dt2)     \n",
    "print(d1 == dt2)       \n",
    "\n",
    "if d1 != date.today():\n",
    "    print(\"Error\")\n"
   ]
  },
  {
   "cell_type": "code",
   "execution_count": 17,
   "metadata": {},
   "outputs": [
    {
     "name": "stdout",
     "output_type": "stream",
     "text": [
      "24-07-2020\n"
     ]
    }
   ],
   "source": [
    "from datetime import date\n",
    "\n",
    "dt = date(2020, 7, 24)\n",
    "s = dt.strftime('%d-%m-%Y')\n",
    "\n",
    "print(s)"
   ]
  },
  {
   "cell_type": "code",
   "execution_count": 18,
   "metadata": {},
   "outputs": [
    {
     "data": {
      "text/plain": [
       "DatetimeIndex(['2020-01-01', '2020-01-02', '2020-01-03', '2020-01-04',\n",
       "               '2020-01-05', '2020-01-06', '2020-01-07', '2020-01-08',\n",
       "               '2020-01-09', '2020-01-10', '2020-01-11', '2020-01-12',\n",
       "               '2020-01-13', '2020-01-14', '2020-01-15'],\n",
       "              dtype='datetime64[ns]', freq='D')"
      ]
     },
     "execution_count": 18,
     "metadata": {},
     "output_type": "execute_result"
    }
   ],
   "source": [
    "import pandas as pd\n",
    "\n",
    "dr = pd.date_range(start='2020-01-01', end='2020-01-15')\n",
    "dr\n"
   ]
  },
  {
   "cell_type": "code",
   "execution_count": 19,
   "metadata": {},
   "outputs": [
    {
     "data": {
      "text/plain": [
       "DatetimeIndex(['2020-02-20', '2020-02-21', '2020-02-22', '2020-02-23',\n",
       "               '2020-02-24', '2020-02-25', '2020-02-26', '2020-02-27',\n",
       "               '2020-02-28', '2020-02-29'],\n",
       "              dtype='datetime64[ns]', freq='D')"
      ]
     },
     "execution_count": 19,
     "metadata": {},
     "output_type": "execute_result"
    }
   ],
   "source": [
    "import pandas as pd\n",
    "\n",
    "dr = pd.date_range(start='2020-02-20', periods=10)\n",
    "#หรือ pd.date_range('2020-02-20', periods=10)\n",
    "dr\n"
   ]
  },
  {
   "cell_type": "code",
   "execution_count": 21,
   "metadata": {},
   "outputs": [
    {
     "data": {
      "text/plain": [
       "DatetimeIndex(['2020-12-22', '2020-12-23', '2020-12-24', '2020-12-25',\n",
       "               '2020-12-26', '2020-12-27', '2020-12-28', '2020-12-29',\n",
       "               '2020-12-30', '2020-12-31'],\n",
       "              dtype='datetime64[ns]', freq='D')"
      ]
     },
     "metadata": {},
     "output_type": "display_data"
    },
    {
     "data": {
      "text/plain": [
       "DatetimeIndex(['2019-12-27', '2019-12-28', '2019-12-29', '2019-12-30',\n",
       "               '2019-12-31', '2020-01-01', '2020-01-02'],\n",
       "              dtype='datetime64[ns]', freq='D')"
      ]
     },
     "metadata": {},
     "output_type": "display_data"
    }
   ],
   "source": [
    "import pandas as pd\n",
    "\n",
    "dr1 = pd.date_range(end='2020-12-31', periods=10)\n",
    "\n",
    "dr2 = pd.date_range(end='2020-01-02', periods=7)\n",
    "\n",
    "display(dr1, dr2)"
   ]
  },
  {
   "cell_type": "code",
   "execution_count": 22,
   "metadata": {},
   "outputs": [
    {
     "data": {
      "text/plain": [
       "DatetimeIndex(['2020-01-20', '2020-01-21', '2020-01-22', '2020-01-23',\n",
       "               '2020-01-24', '2020-01-25', '2020-01-26', '2020-01-27',\n",
       "               '2020-01-28', '2020-01-29'],\n",
       "              dtype='datetime64[ns]', freq='D')"
      ]
     },
     "metadata": {},
     "output_type": "display_data"
    },
    {
     "data": {
      "text/plain": [
       "DatetimeIndex(['2020-01-01', '2020-01-11', '2020-01-21', '2020-01-31',\n",
       "               '2020-02-10', '2020-02-20', '2020-03-01', '2020-03-11',\n",
       "               '2020-03-21', '2020-03-31'],\n",
       "              dtype='datetime64[ns]', freq='10D')"
      ]
     },
     "metadata": {},
     "output_type": "display_data"
    }
   ],
   "source": [
    "import pandas as pd\n",
    "\n",
    "dr1 = pd.date_range('2020-01-20', periods=10, freq='D')\n",
    "\n",
    "dr2 = pd.date_range('2020-01-01', periods=10, freq='10D')\n",
    "\n",
    "display(dr1, dr2)"
   ]
  },
  {
   "cell_type": "code",
   "execution_count": 23,
   "metadata": {},
   "outputs": [
    {
     "data": {
      "text/plain": [
       "DatetimeIndex(['2020-01-05', '2020-01-12', '2020-01-19', '2020-01-26',\n",
       "               '2020-02-02'],\n",
       "              dtype='datetime64[ns]', freq='W-SUN')"
      ]
     },
     "metadata": {},
     "output_type": "display_data"
    },
    {
     "data": {
      "text/plain": [
       "DatetimeIndex(['2020-01-04', '2020-01-11', '2020-01-18', '2020-01-25',\n",
       "               '2020-02-01'],\n",
       "              dtype='datetime64[ns]', freq='W-SAT')"
      ]
     },
     "metadata": {},
     "output_type": "display_data"
    }
   ],
   "source": [
    "import pandas as pd\n",
    "\n",
    "dr1 = pd.date_range(start='2020-01-01', periods=5, freq='W') #W-SUN\n",
    "dr2 = pd.date_range('2020-01-01', periods=5, freq='W-SAT')\n",
    "\n",
    "display(dr1, dr2)\n"
   ]
  },
  {
   "cell_type": "code",
   "execution_count": 24,
   "metadata": {},
   "outputs": [
    {
     "data": {
      "text/plain": [
       "DatetimeIndex(['2020-01-31', '2020-02-29', '2020-03-31', '2020-04-30',\n",
       "               '2020-05-31'],\n",
       "              dtype='datetime64[ns]', freq='M')"
      ]
     },
     "metadata": {},
     "output_type": "display_data"
    },
    {
     "data": {
      "text/plain": [
       "DatetimeIndex(['2020-02-01', '2020-03-01', '2020-04-01', '2020-05-01',\n",
       "               '2020-06-01'],\n",
       "              dtype='datetime64[ns]', freq='MS')"
      ]
     },
     "metadata": {},
     "output_type": "display_data"
    }
   ],
   "source": [
    "import pandas as pd\n",
    "\n",
    "dr1 = pd.date_range(start='2020-01-10', periods=5, freq='M')\n",
    "dr2 = pd.date_range('2020-01-10', periods=5, freq='MS')\n",
    "\n",
    "display(dr1, dr2)\n"
   ]
  },
  {
   "cell_type": "code",
   "execution_count": 25,
   "metadata": {},
   "outputs": [
    {
     "data": {
      "text/plain": [
       "DatetimeIndex(['2020-01-15', '2020-01-31', '2020-02-15', '2020-02-29',\n",
       "               '2020-03-15'],\n",
       "              dtype='datetime64[ns]', freq='SM-15')"
      ]
     },
     "metadata": {},
     "output_type": "display_data"
    },
    {
     "data": {
      "text/plain": [
       "DatetimeIndex(['2020-01-01', '2020-01-15', '2020-02-01', '2020-02-15',\n",
       "               '2020-03-01'],\n",
       "              dtype='datetime64[ns]', freq='SMS-15')"
      ]
     },
     "metadata": {},
     "output_type": "display_data"
    }
   ],
   "source": [
    "import pandas as pd\n",
    "\n",
    "dr1 = pd.date_range(start='2020-01-01', periods=5, freq='SM')\n",
    "dr2 = pd.date_range('2020-01-01', periods=5, freq='SMS')\n",
    "\n",
    "display(dr1, dr2)\n"
   ]
  },
  {
   "cell_type": "code",
   "execution_count": 26,
   "metadata": {},
   "outputs": [
    {
     "data": {
      "text/plain": [
       "DatetimeIndex(['2020-03-31', '2020-06-30', '2020-09-30', '2020-12-31',\n",
       "               '2021-03-31', '2021-06-30', '2021-09-30', '2021-12-31'],\n",
       "              dtype='datetime64[ns]', freq='Q-DEC')"
      ]
     },
     "metadata": {},
     "output_type": "display_data"
    },
    {
     "data": {
      "text/plain": [
       "DatetimeIndex(['2020-01-01', '2020-04-01', '2020-07-01', '2020-10-01',\n",
       "               '2021-01-01', '2021-04-01', '2021-07-01', '2021-10-01'],\n",
       "              dtype='datetime64[ns]', freq='QS-JAN')"
      ]
     },
     "metadata": {},
     "output_type": "display_data"
    }
   ],
   "source": [
    "import pandas as pd\n",
    "\n",
    "dr1 = pd.date_range(start='2020-01', periods=8, freq='Q')\n",
    "dr2 = pd.date_range(start='2020-01', periods=8, freq='QS')\n",
    "\n",
    "display(dr1, dr2)"
   ]
  },
  {
   "cell_type": "code",
   "execution_count": 27,
   "metadata": {},
   "outputs": [
    {
     "data": {
      "text/plain": [
       "DatetimeIndex(['2020-06-30', '2020-09-30', '2020-12-31', '2021-03-31',\n",
       "               '2021-06-30', '2021-09-30', '2021-12-31', '2022-03-31',\n",
       "               '2022-06-30', '2022-09-30'],\n",
       "              dtype='datetime64[ns]', freq='Q-DEC')"
      ]
     },
     "execution_count": 27,
     "metadata": {},
     "output_type": "execute_result"
    }
   ],
   "source": [
    "import pandas as pd\n",
    "\n",
    "dr = pd.date_range(start='2020Q2', end=\"2022Q4\", freq='Q')\n",
    "dr"
   ]
  },
  {
   "cell_type": "code",
   "execution_count": 28,
   "metadata": {},
   "outputs": [
    {
     "data": {
      "text/plain": [
       "DatetimeIndex(['2020-12-31', '2021-12-31', '2022-12-31', '2023-12-31',\n",
       "               '2024-12-31', '2025-12-31'],\n",
       "              dtype='datetime64[ns]', freq='A-DEC')"
      ]
     },
     "metadata": {},
     "output_type": "display_data"
    },
    {
     "data": {
      "text/plain": [
       "DatetimeIndex(['2020-01-01', '2021-01-01', '2022-01-01', '2023-01-01',\n",
       "               '2024-01-01', '2025-01-01'],\n",
       "              dtype='datetime64[ns]', freq='AS-JAN')"
      ]
     },
     "metadata": {},
     "output_type": "display_data"
    },
    {
     "data": {
      "text/plain": [
       "DatetimeIndex(['2020-04-01', '2021-04-01', '2022-04-01', '2023-04-01',\n",
       "               '2024-04-01', '2025-04-01'],\n",
       "              dtype='datetime64[ns]', freq='AS-APR')"
      ]
     },
     "metadata": {},
     "output_type": "display_data"
    }
   ],
   "source": [
    "import pandas as pd\n",
    "\n",
    "dr1 = pd.date_range(start='2020-01', periods=6, freq='A')\n",
    "dr2 = pd.date_range(start='2020-01', periods=6, freq='AS')\n",
    "dr3 = pd.date_range(start='2020-01', periods=6, freq='AS-APR')\n",
    "\n",
    "display(dr1, dr2, dr3)\n"
   ]
  },
  {
   "cell_type": "code",
   "execution_count": 29,
   "metadata": {},
   "outputs": [
    {
     "data": {
      "text/plain": [
       "DatetimeIndex(['2020-01-01 00:00:00', '2020-01-01 01:00:00',\n",
       "               '2020-01-01 02:00:00', '2020-01-01 03:00:00',\n",
       "               '2020-01-01 04:00:00', '2020-01-01 05:00:00'],\n",
       "              dtype='datetime64[ns]', freq='H')"
      ]
     },
     "metadata": {},
     "output_type": "display_data"
    },
    {
     "data": {
      "text/plain": [
       "DatetimeIndex(['2020-01-01 08:30:00', '2020-01-01 09:00:00',\n",
       "               '2020-01-01 09:30:00', '2020-01-01 10:00:00',\n",
       "               '2020-01-01 10:30:00', '2020-01-01 11:00:00'],\n",
       "              dtype='datetime64[ns]', freq='30T')"
      ]
     },
     "metadata": {},
     "output_type": "display_data"
    },
    {
     "data": {
      "text/plain": [
       "DatetimeIndex(['2020-01-01 06:00:00', '2020-01-01 09:30:00',\n",
       "               '2020-01-01 13:00:00', '2020-01-01 16:30:00',\n",
       "               '2020-01-01 20:00:00', '2020-01-01 23:30:00'],\n",
       "              dtype='datetime64[ns]', freq='210T')"
      ]
     },
     "metadata": {},
     "output_type": "display_data"
    }
   ],
   "source": [
    "import pandas as pd\n",
    "\n",
    "dr1 = pd.date_range(start='2020-01-01', periods=6, freq='H')\n",
    "dr2 = pd.date_range(start='2020-01-01 8:30', periods=6, freq='30T')\n",
    "dr3 = pd.date_range(start='2020-01-01 6:00', periods=6, freq='3H30T')\n",
    "\n",
    "display(dr1, dr2, dr3)\n"
   ]
  },
  {
   "cell_type": "code",
   "execution_count": 30,
   "metadata": {},
   "outputs": [
    {
     "data": {
      "text/plain": [
       "DatetimeIndex(['2020-01-01', '2020-01-02', '2020-01-03', '2020-01-06',\n",
       "               '2020-01-07', '2020-01-08', '2020-01-09', '2020-01-10',\n",
       "               '2020-01-13', '2020-01-14'],\n",
       "              dtype='datetime64[ns]', freq='B')"
      ]
     },
     "metadata": {},
     "output_type": "display_data"
    }
   ],
   "source": [
    "import pandas as pd\n",
    "\n",
    "dr = pd.date_range(start='2020-01-01', periods=10, freq='B')\n",
    "display(dr)\n"
   ]
  },
  {
   "cell_type": "code",
   "execution_count": 2,
   "metadata": {},
   "outputs": [
    {
     "data": {
      "text/plain": [
       "DatetimeIndex(['2020-12-01', '2020-12-02', '2020-12-03', '2020-12-04',\n",
       "               '2020-12-07', '2020-12-08', '2020-12-09', '2020-12-11',\n",
       "               '2020-12-14', '2020-12-15', '2020-12-16', '2020-12-17',\n",
       "               '2020-12-18', '2020-12-21', '2020-12-22', '2020-12-23',\n",
       "               '2020-12-24', '2020-12-25', '2020-12-28', '2020-12-29',\n",
       "               '2020-12-30'],\n",
       "              dtype='datetime64[ns]', freq='C')"
      ]
     },
     "execution_count": 2,
     "metadata": {},
     "output_type": "execute_result"
    }
   ],
   "source": [
    "import pandas as pd\n",
    "from datetime import datetime\n",
    "\n",
    "#สมมติว่าเราต้องการวันทำงานของเดือนธันวาคม ปี 2020 ซึ่งอยู่ในช่วง 1/12/2020 - 31/12/2020\n",
    "#5/12/2020 ตรงกับวันเสาร์\n",
    "#10/12/2020 ตรงกับวันพฤหัสบดี\n",
    "#31/12/2020 ตรงกับวันพฤหัสบดี\n",
    "\n",
    "hols = [datetime(2020,12,5), datetime(2020,12,10),\n",
    "        datetime(2020,12,31)]\n",
    "\n",
    "bd = pd.bdate_range(start='2020-12-01', end='2020-12-31', \n",
    "                    freq='C', holidays=hols)\n",
    "\n",
    "bd\n"
   ]
  },
  {
   "cell_type": "code",
   "execution_count": 32,
   "metadata": {},
   "outputs": [
    {
     "data": {
      "text/plain": [
       "DatetimeIndex(['2020-01-20', '2020-02-20', '2020-03-20', '2020-04-20',\n",
       "               '2020-05-20', '2020-06-20', '2020-07-20', '2020-08-20',\n",
       "               '2020-09-20', '2020-10-20', '2020-11-20', '2020-12-20'],\n",
       "              dtype='datetime64[ns]', freq=None)"
      ]
     },
     "execution_count": 32,
     "metadata": {},
     "output_type": "execute_result"
    }
   ],
   "source": [
    "import pandas as pd\n",
    "\n",
    "dr1 = pd.date_range(start='2020-01-01', periods=12, freq='MS')\n",
    "dr20 = dr1 + pd.DateOffset(days=19)\n",
    "\n",
    "dr20"
   ]
  },
  {
   "cell_type": "code",
   "execution_count": 35,
   "metadata": {},
   "outputs": [
    {
     "data": {
      "text/plain": [
       "DatetimeIndex(['2020-01-26', '2020-02-24', '2020-03-26', '2020-04-25',\n",
       "               '2020-05-26', '2020-06-25', '2020-07-26', '2020-08-26',\n",
       "               '2020-09-25', '2020-10-26', '2020-11-25', '2020-12-26'],\n",
       "              dtype='datetime64[ns]', freq=None)"
      ]
     },
     "execution_count": 35,
     "metadata": {},
     "output_type": "execute_result"
    }
   ],
   "source": [
    "import pandas as pd\n",
    "\n",
    "dr = pd.date_range(start='2020-01-01', periods=12, freq='M')\n",
    "dr -= pd.DateOffset(days=5)\n",
    "\n",
    "dr"
   ]
  },
  {
   "cell_type": "code",
   "execution_count": 36,
   "metadata": {},
   "outputs": [
    {
     "data": {
      "text/plain": [
       "Timestamp('2020-01-01 00:00:00', freq='D')"
      ]
     },
     "metadata": {},
     "output_type": "display_data"
    },
    {
     "data": {
      "text/plain": [
       "Timestamp('2020-01-11 00:00:00', freq='D')"
      ]
     },
     "metadata": {},
     "output_type": "display_data"
    },
    {
     "data": {
      "text/plain": [
       "DatetimeIndex(['2020-01-21', '2020-01-22', '2020-01-23', '2020-01-24',\n",
       "               '2020-01-25'],\n",
       "              dtype='datetime64[ns]', freq='D')"
      ]
     },
     "metadata": {},
     "output_type": "display_data"
    },
    {
     "data": {
      "text/plain": [
       "DatetimeIndex(['2020-01-21', '2020-01-22', '2020-01-23', '2020-01-24',\n",
       "               '2020-01-25', '2020-01-26', '2020-01-27', '2020-01-28',\n",
       "               '2020-01-29', '2020-01-30', '2020-01-31'],\n",
       "              dtype='datetime64[ns]', freq='D')"
      ]
     },
     "metadata": {},
     "output_type": "display_data"
    }
   ],
   "source": [
    "import pandas as pd\n",
    "\n",
    "dr = pd.date_range(start='2020-01-01', periods=31, freq='D')\n",
    "\n",
    "display(dr[0], \n",
    "        dr[10], \n",
    "        dr[20:25], \n",
    "        dr[dr > '2020-01-20'])\n"
   ]
  },
  {
   "cell_type": "code",
   "execution_count": 37,
   "metadata": {},
   "outputs": [
    {
     "data": {
      "text/plain": [
       "Int64Index([ 1,  2,  3,  4,  5,  6,  7,  8,  9, 10, 11, 12, 13, 14, 15, 16, 17,\n",
       "            18, 19, 20, 21, 22, 23, 24, 25, 26, 27, 28, 29, 30, 31],\n",
       "           dtype='int64')"
      ]
     },
     "metadata": {},
     "output_type": "display_data"
    },
    {
     "data": {
      "text/plain": [
       "DatetimeIndex(['2020-01-21', '2020-01-22', '2020-01-23', '2020-01-24',\n",
       "               '2020-01-25', '2020-01-26', '2020-01-27', '2020-01-28',\n",
       "               '2020-01-29', '2020-01-30', '2020-01-31'],\n",
       "              dtype='datetime64[ns]', freq='D')"
      ]
     },
     "metadata": {},
     "output_type": "display_data"
    }
   ],
   "source": [
    "import pandas as pd\n",
    "\n",
    "dr = pd.date_range(start='2020-01-01', periods=31, freq='D')\n",
    "\n",
    "display(dr.day, \n",
    "        dr[dr.day > 20])\n"
   ]
  },
  {
   "cell_type": "code",
   "execution_count": 38,
   "metadata": {},
   "outputs": [
    {
     "data": {
      "text/plain": [
       "DatetimeIndex(['2020-01-01', '2020-01-16', '2020-02-01', '2020-02-16',\n",
       "               '2020-03-01', '2020-03-16', '2020-04-01', '2020-04-16',\n",
       "               '2020-05-01', '2020-05-16', '2020-06-01', '2020-06-16',\n",
       "               '2020-07-01', '2020-07-16', '2020-08-01', '2020-08-16',\n",
       "               '2020-09-01', '2020-09-16', '2020-10-01', '2020-10-16',\n",
       "               '2020-11-01', '2020-11-16', '2020-12-01', '2020-12-16'],\n",
       "              dtype='datetime64[ns]', freq=None)"
      ]
     },
     "execution_count": 38,
     "metadata": {},
     "output_type": "execute_result"
    }
   ],
   "source": [
    "import pandas as pd\n",
    "\n",
    "dr1 = pd.date_range(start='2020-01-01', periods=12, freq='MS')\n",
    "dr16 = dr1 + pd.DateOffset(days=15)\n",
    "\n",
    "dr1_16 = dr1.union(dr16)\n",
    "\n",
    "dr1_16\n"
   ]
  },
  {
   "cell_type": "code",
   "execution_count": 39,
   "metadata": {},
   "outputs": [
    {
     "data": {
      "text/plain": [
       "DatetimeIndex(['2020-01-01', '2020-04-06', '2020-04-13', '2020-07-28',\n",
       "               '2020-08-12', '2020-10-13'],\n",
       "              dtype='datetime64[ns]', freq=None)"
      ]
     },
     "execution_count": 39,
     "metadata": {},
     "output_type": "execute_result"
    }
   ],
   "source": [
    "import pandas as pd\n",
    "\n",
    "di = pd.DatetimeIndex(['2020-01-01', '2020/04/06', \n",
    "                       '4/13/2020', 'Jul 28, 2020', \n",
    "                       '12 August 2020', 'Tue 13 Oct 2020'])\n",
    "\n",
    "di"
   ]
  },
  {
   "cell_type": "code",
   "execution_count": 40,
   "metadata": {},
   "outputs": [
    {
     "data": {
      "text/plain": [
       "DatetimeIndex(['2020-12-31', '2021-12-31', '2022-12-31', '2023-12-31',\n",
       "               '2024-12-31', '2025-12-31', '2026-12-31', '2027-12-31',\n",
       "               '2028-12-31', '2029-12-31'],\n",
       "              dtype='datetime64[ns]', freq='A-DEC')"
      ]
     },
     "execution_count": 40,
     "metadata": {},
     "output_type": "execute_result"
    }
   ],
   "source": [
    "import pandas as pd\n",
    "\n",
    "dr = pd.date_range('2020', periods=10, freq='A')\n",
    "\n",
    "dr\n"
   ]
  },
  {
   "cell_type": "code",
   "execution_count": 41,
   "metadata": {},
   "outputs": [
    {
     "data": {
      "text/plain": [
       "PeriodIndex(['2020', '2021', '2022', '2023', '2024', '2025', '2026', '2027',\n",
       "             '2028', '2029'],\n",
       "            dtype='period[A-DEC]', freq='A-DEC')"
      ]
     },
     "execution_count": 41,
     "metadata": {},
     "output_type": "execute_result"
    }
   ],
   "source": [
    "import pandas as pd\n",
    "\n",
    "pr = pd.period_range('2020', periods=10, freq='A')\n",
    "\n",
    "pr"
   ]
  },
  {
   "cell_type": "code",
   "execution_count": 42,
   "metadata": {},
   "outputs": [
    {
     "data": {
      "text/plain": [
       "PeriodIndex(['2020Q1', '2020Q2', '2020Q3', '2020Q4', '2021Q1', '2021Q2',\n",
       "             '2021Q3', '2021Q4'],\n",
       "            dtype='period[Q-DEC]', freq='Q-DEC')"
      ]
     },
     "metadata": {},
     "output_type": "display_data"
    },
    {
     "data": {
      "text/plain": [
       "PeriodIndex(['2020-01', '2020-02', '2020-03', '2020-04', '2020-05', '2020-06',\n",
       "             '2020-07', '2020-08', '2020-09', '2020-10', '2020-11', '2020-12'],\n",
       "            dtype='period[M]', freq='M')"
      ]
     },
     "metadata": {},
     "output_type": "display_data"
    },
    {
     "data": {
      "text/plain": [
       "PeriodIndex(['2019-12-29/2020-01-04', '2020-01-05/2020-01-11',\n",
       "             '2020-01-12/2020-01-18', '2020-01-19/2020-01-25',\n",
       "             '2020-01-26/2020-02-01', '2020-02-02/2020-02-08',\n",
       "             '2020-02-09/2020-02-15', '2020-02-16/2020-02-22'],\n",
       "            dtype='period[W-SAT]', freq='W-SAT')"
      ]
     },
     "metadata": {},
     "output_type": "display_data"
    }
   ],
   "source": [
    "import pandas as pd\n",
    "\n",
    "pr_q = pd.period_range('2020Q1', periods=8, freq='Q')\n",
    "pr_m = pd.period_range('2020-01', periods=12, freq='M')\n",
    "pr_w = pd.period_range('2020-01-01', periods=8, freq='W-SAT')\n",
    "\n",
    "display(pr_q, pr_m, pr_w)"
   ]
  },
  {
   "cell_type": "code",
   "execution_count": 44,
   "metadata": {},
   "outputs": [
    {
     "data": {
      "text/plain": [
       "DatetimeIndex(['2020-01-09 06:00:00', '2020-01-09 07:00:00',\n",
       "               '2020-01-09 08:00:00', '2020-01-09 09:00:00',\n",
       "               '2020-01-09 10:00:00', '2020-01-09 11:00:00'],\n",
       "              dtype='datetime64[ns]', freq='H')"
      ]
     },
     "execution_count": 44,
     "metadata": {},
     "output_type": "execute_result"
    }
   ],
   "source": [
    "import pandas as pd\n",
    "\n",
    "dr = pd.date_range('06:00', periods=6, freq='H')\n",
    "\n",
    "dr"
   ]
  },
  {
   "cell_type": "code",
   "execution_count": 45,
   "metadata": {},
   "outputs": [
    {
     "data": {
      "text/plain": [
       "TimedeltaIndex(['06:30:00', '07:30:00', '08:30:00', '09:30:00', '10:30:00',\n",
       "                '11:30:00', '12:30:00', '13:30:00', '14:30:00', '15:30:00',\n",
       "                '16:30:00', '17:30:00'],\n",
       "               dtype='timedelta64[ns]', freq='H')"
      ]
     },
     "metadata": {},
     "output_type": "display_data"
    },
    {
     "data": {
      "text/plain": [
       "TimedeltaIndex(['12:00:00', '12:30:00', '13:00:00', '13:30:00', '14:00:00',\n",
       "                '14:30:00', '15:00:00', '15:30:00', '16:00:00', '16:30:00'],\n",
       "               dtype='timedelta64[ns]', freq='30T')"
      ]
     },
     "metadata": {},
     "output_type": "display_data"
    }
   ],
   "source": [
    "import pandas as pd\n",
    "\n",
    "td_h = pd.timedelta_range('6:30:00', periods=12, freq='H')\n",
    "td_t = pd.timedelta_range('12:00:00', periods=10, freq='30T')\n",
    "\n",
    "display(td_h, td_t)"
   ]
  },
  {
   "cell_type": "code",
   "execution_count": 46,
   "metadata": {},
   "outputs": [
    {
     "data": {
      "text/plain": [
       "2020-01-01    22\n",
       "2020-02-01     9\n",
       "2020-03-01     8\n",
       "Freq: MS, dtype: int32"
      ]
     },
     "metadata": {},
     "output_type": "display_data"
    },
    {
     "data": {
      "text/plain": [
       "2020-11-01    71\n",
       "2020-12-01    57\n",
       "Freq: MS, dtype: int32"
      ]
     },
     "metadata": {},
     "output_type": "display_data"
    },
    {
     "data": {
      "text/plain": [
       "2020-06-01    68\n",
       "2020-07-01    70\n",
       "2020-08-01    97\n",
       "2020-09-01    54\n",
       "2020-10-01    95\n",
       "2020-11-01    71\n",
       "2020-12-01    57\n",
       "Freq: MS, dtype: int32"
      ]
     },
     "metadata": {},
     "output_type": "display_data"
    }
   ],
   "source": [
    "import pandas as pd\n",
    "\n",
    "data = np.random.randint(1, 101, 12)\n",
    "idx = pd.date_range('2020-01', periods=12, freq='MS')\n",
    "\n",
    "sr = pd.Series(data, index=idx)\n",
    "\n",
    "display(sr.head(3),\n",
    "        sr.tail(2),\n",
    "        sr[sr > 50])"
   ]
  },
  {
   "cell_type": "code",
   "execution_count": 47,
   "metadata": {},
   "outputs": [
    {
     "data": {
      "text/html": [
       "<div>\n",
       "<style scoped>\n",
       "    .dataframe tbody tr th:only-of-type {\n",
       "        vertical-align: middle;\n",
       "    }\n",
       "\n",
       "    .dataframe tbody tr th {\n",
       "        vertical-align: top;\n",
       "    }\n",
       "\n",
       "    .dataframe thead th {\n",
       "        text-align: right;\n",
       "    }\n",
       "</style>\n",
       "<table border=\"1\" class=\"dataframe\">\n",
       "  <thead>\n",
       "    <tr style=\"text-align: right;\">\n",
       "      <th></th>\n",
       "      <th>one</th>\n",
       "      <th>two</th>\n",
       "      <th>three</th>\n",
       "    </tr>\n",
       "  </thead>\n",
       "  <tbody>\n",
       "    <tr>\n",
       "      <th>2050-01-01</th>\n",
       "      <td>1</td>\n",
       "      <td>59</td>\n",
       "      <td>838</td>\n",
       "    </tr>\n",
       "    <tr>\n",
       "      <th>2050-01-16</th>\n",
       "      <td>2</td>\n",
       "      <td>84</td>\n",
       "      <td>472</td>\n",
       "    </tr>\n",
       "    <tr>\n",
       "      <th>2050-02-01</th>\n",
       "      <td>6</td>\n",
       "      <td>93</td>\n",
       "      <td>374</td>\n",
       "    </tr>\n",
       "    <tr>\n",
       "      <th>2050-02-16</th>\n",
       "      <td>2</td>\n",
       "      <td>91</td>\n",
       "      <td>174</td>\n",
       "    </tr>\n",
       "  </tbody>\n",
       "</table>\n",
       "</div>"
      ],
      "text/plain": [
       "            one  two  three\n",
       "2050-01-01    1   59    838\n",
       "2050-01-16    2   84    472\n",
       "2050-02-01    6   93    374\n",
       "2050-02-16    2   91    174"
      ]
     },
     "metadata": {},
     "output_type": "display_data"
    },
    {
     "data": {
      "text/html": [
       "<div>\n",
       "<style scoped>\n",
       "    .dataframe tbody tr th:only-of-type {\n",
       "        vertical-align: middle;\n",
       "    }\n",
       "\n",
       "    .dataframe tbody tr th {\n",
       "        vertical-align: top;\n",
       "    }\n",
       "\n",
       "    .dataframe thead th {\n",
       "        text-align: right;\n",
       "    }\n",
       "</style>\n",
       "<table border=\"1\" class=\"dataframe\">\n",
       "  <thead>\n",
       "    <tr style=\"text-align: right;\">\n",
       "      <th></th>\n",
       "      <th>one</th>\n",
       "      <th>two</th>\n",
       "      <th>three</th>\n",
       "    </tr>\n",
       "  </thead>\n",
       "  <tbody>\n",
       "    <tr>\n",
       "      <th>2050-11-01</th>\n",
       "      <td>6</td>\n",
       "      <td>77</td>\n",
       "      <td>413</td>\n",
       "    </tr>\n",
       "    <tr>\n",
       "      <th>2050-11-16</th>\n",
       "      <td>8</td>\n",
       "      <td>62</td>\n",
       "      <td>657</td>\n",
       "    </tr>\n",
       "    <tr>\n",
       "      <th>2050-12-01</th>\n",
       "      <td>2</td>\n",
       "      <td>35</td>\n",
       "      <td>252</td>\n",
       "    </tr>\n",
       "    <tr>\n",
       "      <th>2050-12-16</th>\n",
       "      <td>6</td>\n",
       "      <td>99</td>\n",
       "      <td>547</td>\n",
       "    </tr>\n",
       "  </tbody>\n",
       "</table>\n",
       "</div>"
      ],
      "text/plain": [
       "            one  two  three\n",
       "2050-11-01    6   77    413\n",
       "2050-11-16    8   62    657\n",
       "2050-12-01    2   35    252\n",
       "2050-12-16    6   99    547"
      ]
     },
     "metadata": {},
     "output_type": "display_data"
    }
   ],
   "source": [
    "import pandas as pd\n",
    "\n",
    "#สร้างลำดับแบบวันเวลา ให้เป็นวันที่ 1 และ 16 ของแต่ละเดือน\n",
    "idx_1 = pd.date_range('2050-01-01', periods=12, freq='MS')\n",
    "idx_16 = idx_1 + pd.DateOffset(days=15)\n",
    "idx = idx_1.union(idx_16)\n",
    "\n",
    "data = {'one': np.random.randint(1, 10, len(idx)),\n",
    "        'two': np.random.randint(10, 100, len(idx)),\n",
    "        'three': np.random.randint(100, 1000, len(idx))}\n",
    "\n",
    "df = pd.DataFrame(data, index=idx)\n",
    "\n",
    "display(df.head(4),\n",
    "        df.tail(4))"
   ]
  },
  {
   "cell_type": "code",
   "execution_count": 9,
   "metadata": {},
   "outputs": [
    {
     "data": {
      "text/plain": [
       "52"
      ]
     },
     "metadata": {},
     "output_type": "display_data"
    },
    {
     "data": {
      "text/plain": [
       "DatetimeIndex(['2020-01-01', '2020-03-01', '2020-05-01', '2020-07-01',\n",
       "               '2020-09-01', '2020-11-01'],\n",
       "              dtype='datetime64[ns]', freq='2MS')"
      ]
     },
     "metadata": {},
     "output_type": "display_data"
    },
    {
     "data": {
      "text/plain": [
       "DatetimeIndex(['2020-01-01', '2020-02-01', '2020-03-01', '2020-05-01',\n",
       "               '2020-06-01', '2020-08-01', '2020-09-01', '2020-11-01',\n",
       "               '2020-12-01'],\n",
       "              dtype='datetime64[ns]', freq=None)"
      ]
     },
     "metadata": {},
     "output_type": "display_data"
    },
    {
     "data": {
      "text/plain": [
       "2020-11-01    69\n",
       "2020-12-01    84\n",
       "Freq: MS, dtype: int32"
      ]
     },
     "metadata": {},
     "output_type": "display_data"
    },
    {
     "data": {
      "text/plain": [
       "2020-01-01    52\n",
       "2020-02-01    67\n",
       "Freq: MS, dtype: int32"
      ]
     },
     "metadata": {},
     "output_type": "display_data"
    },
    {
     "data": {
      "text/plain": [
       "2020-06-01    33\n",
       "2020-07-01    92\n",
       "2020-08-01    40\n",
       "2020-09-01    69\n",
       "2020-10-01    85\n",
       "Freq: MS, dtype: int32"
      ]
     },
     "metadata": {},
     "output_type": "display_data"
    },
    {
     "data": {
      "text/plain": [
       "2020-04-01    43\n",
       "2020-06-01    33\n",
       "2020-08-01    40\n",
       "2020-10-01    85\n",
       "2020-12-01    84\n",
       "Freq: 2MS, dtype: int32"
      ]
     },
     "metadata": {},
     "output_type": "display_data"
    }
   ],
   "source": [
    "import pandas as pd\n",
    "\n",
    "data = np.random.randint(1, 101, 12)\n",
    "idx = pd.date_range('2020-01', periods=12, freq='MS')\n",
    "\n",
    "sr = pd.Series(data, index=idx)\n",
    "\n",
    "display(sr[0],\n",
    "        sr.index[::2],\n",
    "        sr.index.delete([3, 6, 9]),\n",
    "        sr[sr.index > '2020-10'],\n",
    "        sr[sr.index.month < 3],\n",
    "        sr['2020-06-01':'2020-10'],\n",
    "        sr['1 April 2020'::2])\n"
   ]
  },
  {
   "cell_type": "code",
   "execution_count": 49,
   "metadata": {},
   "outputs": [
    {
     "data": {
      "text/plain": [
       "18"
      ]
     },
     "metadata": {},
     "output_type": "display_data"
    },
    {
     "data": {
      "text/plain": [
       "27"
      ]
     },
     "metadata": {},
     "output_type": "display_data"
    },
    {
     "data": {
      "text/plain": [
       "55"
      ]
     },
     "metadata": {},
     "output_type": "display_data"
    },
    {
     "data": {
      "text/plain": [
       "79"
      ]
     },
     "metadata": {},
     "output_type": "display_data"
    },
    {
     "data": {
      "text/plain": [
       "80"
      ]
     },
     "metadata": {},
     "output_type": "display_data"
    }
   ],
   "source": [
    "import pandas as pd\n",
    "\n",
    "data = np.random.randint(1, 101, 12)\n",
    "idx = pd.date_range('2020-01', periods=12, freq='MS')\n",
    "\n",
    "sr = pd.Series(data, index=idx)\n",
    "\n",
    "display(sr['2020-02-01'],\n",
    "        sr['1 April 2020'],\n",
    "        sr['12/1/2020'],\n",
    "        sr[datetime(2020, 10, 1)],\n",
    "        sr[pd.Timestamp(2020, 9, 1)])"
   ]
  },
  {
   "cell_type": "code",
   "execution_count": 51,
   "metadata": {},
   "outputs": [
    {
     "data": {
      "text/plain": [
       "2020-01-01     10\n",
       "2020-01-02     20\n",
       "2020-01-03     30\n",
       "2020-01-04     40\n",
       "2020-01-05     50\n",
       "2020-01-06     60\n",
       "2020-01-07     70\n",
       "2020-01-08     80\n",
       "2020-01-09     90\n",
       "2020-01-10    100\n",
       "2020-01-11    110\n",
       "2020-01-12    120\n",
       "2020-01-13    130\n",
       "2020-01-14    140\n",
       "Freq: D, dtype: int32"
      ]
     },
     "metadata": {},
     "output_type": "display_data"
    },
    {
     "data": {
      "text/plain": [
       "2020-01-04    100\n",
       "2020-01-11    560\n",
       "2020-01-18    390\n",
       "Freq: W-SAT, dtype: int32"
      ]
     },
     "metadata": {},
     "output_type": "display_data"
    }
   ],
   "source": [
    "import pandas as pd\n",
    "\n",
    "idx = pd.date_range('2020-01-01', periods=14, freq='D')   #วันพุธ\n",
    "\n",
    "sr = pd.Series(np.arange(10, 150, 10), index=idx)\n",
    "\n",
    "display(sr,\n",
    "        sr.resample('W-SAT').sum())  #mean(), max()\n"
   ]
  },
  {
   "cell_type": "code",
   "execution_count": 52,
   "metadata": {},
   "outputs": [
    {
     "data": {
      "text/html": [
       "<div>\n",
       "<style scoped>\n",
       "    .dataframe tbody tr th:only-of-type {\n",
       "        vertical-align: middle;\n",
       "    }\n",
       "\n",
       "    .dataframe tbody tr th {\n",
       "        vertical-align: top;\n",
       "    }\n",
       "\n",
       "    .dataframe thead th {\n",
       "        text-align: right;\n",
       "    }\n",
       "</style>\n",
       "<table border=\"1\" class=\"dataframe\">\n",
       "  <thead>\n",
       "    <tr style=\"text-align: right;\">\n",
       "      <th></th>\n",
       "      <th>one</th>\n",
       "      <th>two</th>\n",
       "      <th>three</th>\n",
       "    </tr>\n",
       "  </thead>\n",
       "  <tbody>\n",
       "    <tr>\n",
       "      <th>2020-01-01</th>\n",
       "      <td>9</td>\n",
       "      <td>95</td>\n",
       "      <td>582</td>\n",
       "    </tr>\n",
       "    <tr>\n",
       "      <th>2020-01-02</th>\n",
       "      <td>6</td>\n",
       "      <td>52</td>\n",
       "      <td>107</td>\n",
       "    </tr>\n",
       "    <tr>\n",
       "      <th>2020-01-03</th>\n",
       "      <td>2</td>\n",
       "      <td>52</td>\n",
       "      <td>185</td>\n",
       "    </tr>\n",
       "    <tr>\n",
       "      <th>2020-01-04</th>\n",
       "      <td>7</td>\n",
       "      <td>44</td>\n",
       "      <td>608</td>\n",
       "    </tr>\n",
       "    <tr>\n",
       "      <th>2020-01-05</th>\n",
       "      <td>2</td>\n",
       "      <td>89</td>\n",
       "      <td>963</td>\n",
       "    </tr>\n",
       "    <tr>\n",
       "      <th>2020-01-06</th>\n",
       "      <td>9</td>\n",
       "      <td>70</td>\n",
       "      <td>868</td>\n",
       "    </tr>\n",
       "    <tr>\n",
       "      <th>2020-01-07</th>\n",
       "      <td>2</td>\n",
       "      <td>28</td>\n",
       "      <td>625</td>\n",
       "    </tr>\n",
       "    <tr>\n",
       "      <th>2020-01-08</th>\n",
       "      <td>7</td>\n",
       "      <td>23</td>\n",
       "      <td>963</td>\n",
       "    </tr>\n",
       "    <tr>\n",
       "      <th>2020-01-09</th>\n",
       "      <td>9</td>\n",
       "      <td>62</td>\n",
       "      <td>139</td>\n",
       "    </tr>\n",
       "    <tr>\n",
       "      <th>2020-01-10</th>\n",
       "      <td>1</td>\n",
       "      <td>37</td>\n",
       "      <td>540</td>\n",
       "    </tr>\n",
       "  </tbody>\n",
       "</table>\n",
       "</div>"
      ],
      "text/plain": [
       "            one  two  three\n",
       "2020-01-01    9   95    582\n",
       "2020-01-02    6   52    107\n",
       "2020-01-03    2   52    185\n",
       "2020-01-04    7   44    608\n",
       "2020-01-05    2   89    963\n",
       "2020-01-06    9   70    868\n",
       "2020-01-07    2   28    625\n",
       "2020-01-08    7   23    963\n",
       "2020-01-09    9   62    139\n",
       "2020-01-10    1   37    540"
      ]
     },
     "metadata": {},
     "output_type": "display_data"
    },
    {
     "data": {
      "text/html": [
       "<div>\n",
       "<style scoped>\n",
       "    .dataframe tbody tr th:only-of-type {\n",
       "        vertical-align: middle;\n",
       "    }\n",
       "\n",
       "    .dataframe tbody tr th {\n",
       "        vertical-align: top;\n",
       "    }\n",
       "\n",
       "    .dataframe thead th {\n",
       "        text-align: right;\n",
       "    }\n",
       "</style>\n",
       "<table border=\"1\" class=\"dataframe\">\n",
       "  <thead>\n",
       "    <tr style=\"text-align: right;\">\n",
       "      <th></th>\n",
       "      <th>one</th>\n",
       "      <th>two</th>\n",
       "      <th>three</th>\n",
       "    </tr>\n",
       "  </thead>\n",
       "  <tbody>\n",
       "    <tr>\n",
       "      <th>2020-01-01</th>\n",
       "      <td>7.5</td>\n",
       "      <td>73.5</td>\n",
       "      <td>344.5</td>\n",
       "    </tr>\n",
       "    <tr>\n",
       "      <th>2020-01-03</th>\n",
       "      <td>4.5</td>\n",
       "      <td>48.0</td>\n",
       "      <td>396.5</td>\n",
       "    </tr>\n",
       "    <tr>\n",
       "      <th>2020-01-05</th>\n",
       "      <td>5.5</td>\n",
       "      <td>79.5</td>\n",
       "      <td>915.5</td>\n",
       "    </tr>\n",
       "    <tr>\n",
       "      <th>2020-01-07</th>\n",
       "      <td>4.5</td>\n",
       "      <td>25.5</td>\n",
       "      <td>794.0</td>\n",
       "    </tr>\n",
       "    <tr>\n",
       "      <th>2020-01-09</th>\n",
       "      <td>5.0</td>\n",
       "      <td>49.5</td>\n",
       "      <td>339.5</td>\n",
       "    </tr>\n",
       "  </tbody>\n",
       "</table>\n",
       "</div>"
      ],
      "text/plain": [
       "            one   two  three\n",
       "2020-01-01  7.5  73.5  344.5\n",
       "2020-01-03  4.5  48.0  396.5\n",
       "2020-01-05  5.5  79.5  915.5\n",
       "2020-01-07  4.5  25.5  794.0\n",
       "2020-01-09  5.0  49.5  339.5"
      ]
     },
     "metadata": {},
     "output_type": "display_data"
    }
   ],
   "source": [
    "import pandas as pd\n",
    "\n",
    "idx = pd.date_range('2020-01-01', periods=10, freq='D')\n",
    "data = {'one': np.random.randint(1, 10, len(idx)),\n",
    "        'two': np.random.randint(10, 100, len(idx)),\n",
    "        'three': np.random.randint(100, 1000, len(idx))}\n",
    "\n",
    "df = pd.DataFrame(data, index=idx)\n",
    "\n",
    "display(df,\n",
    "        df.resample('2D').mean())\n"
   ]
  },
  {
   "cell_type": "code",
   "execution_count": 54,
   "metadata": {},
   "outputs": [
    {
     "data": {
      "text/plain": [
       "2020-01-01     10\n",
       "2020-01-02     20\n",
       "2020-01-03     30\n",
       "2020-01-04     40\n",
       "2020-01-05     50\n",
       "2020-01-06     60\n",
       "2020-01-07     70\n",
       "2020-01-08     80\n",
       "2020-01-09     90\n",
       "2020-01-10    100\n",
       "2020-01-11    110\n",
       "2020-01-12    120\n",
       "2020-01-13    130\n",
       "2020-01-14    140\n",
       "Freq: D, dtype: int32"
      ]
     },
     "metadata": {},
     "output_type": "display_data"
    },
    {
     "data": {
      "text/html": [
       "<div>\n",
       "<style scoped>\n",
       "    .dataframe tbody tr th:only-of-type {\n",
       "        vertical-align: middle;\n",
       "    }\n",
       "\n",
       "    .dataframe tbody tr th {\n",
       "        vertical-align: top;\n",
       "    }\n",
       "\n",
       "    .dataframe thead th {\n",
       "        text-align: right;\n",
       "    }\n",
       "</style>\n",
       "<table border=\"1\" class=\"dataframe\">\n",
       "  <thead>\n",
       "    <tr style=\"text-align: right;\">\n",
       "      <th></th>\n",
       "      <th>open</th>\n",
       "      <th>high</th>\n",
       "      <th>low</th>\n",
       "      <th>close</th>\n",
       "    </tr>\n",
       "  </thead>\n",
       "  <tbody>\n",
       "    <tr>\n",
       "      <th>2020-01-04</th>\n",
       "      <td>10</td>\n",
       "      <td>40</td>\n",
       "      <td>10</td>\n",
       "      <td>40</td>\n",
       "    </tr>\n",
       "    <tr>\n",
       "      <th>2020-01-11</th>\n",
       "      <td>50</td>\n",
       "      <td>110</td>\n",
       "      <td>50</td>\n",
       "      <td>110</td>\n",
       "    </tr>\n",
       "    <tr>\n",
       "      <th>2020-01-18</th>\n",
       "      <td>120</td>\n",
       "      <td>140</td>\n",
       "      <td>120</td>\n",
       "      <td>140</td>\n",
       "    </tr>\n",
       "  </tbody>\n",
       "</table>\n",
       "</div>"
      ],
      "text/plain": [
       "            open  high  low  close\n",
       "2020-01-04    10    40   10     40\n",
       "2020-01-11    50   110   50    110\n",
       "2020-01-18   120   140  120    140"
      ]
     },
     "metadata": {},
     "output_type": "display_data"
    }
   ],
   "source": [
    "import pandas as pd\n",
    "\n",
    "idx = pd.date_range('2020-01-01', periods=14, freq='D')   \n",
    "\n",
    "sr = pd.Series(np.arange(10, 150, 10), index=idx)\n",
    "\n",
    "display(sr,\n",
    "        sr.resample('W-SAT').ohlc())\n"
   ]
  },
  {
   "cell_type": "code",
   "execution_count": 55,
   "metadata": {},
   "outputs": [
    {
     "data": {
      "text/plain": [
       "2020-01-31    23\n",
       "2020-02-29    12\n",
       "2020-03-31    23\n",
       "Freq: M, dtype: int32"
      ]
     },
     "metadata": {},
     "output_type": "display_data"
    },
    {
     "data": {
      "text/plain": [
       "2020-02-01    23.0\n",
       "2020-02-08    23.0\n",
       "2020-02-15     NaN\n",
       "2020-02-22     NaN\n",
       "2020-02-29    12.0\n",
       "2020-03-07    12.0\n",
       "2020-03-14    12.0\n",
       "2020-03-21     NaN\n",
       "2020-03-28     NaN\n",
       "2020-04-04    23.0\n",
       "Freq: W-SAT, dtype: float64"
      ]
     },
     "metadata": {},
     "output_type": "display_data"
    }
   ],
   "source": [
    "import pandas as pd\n",
    "\n",
    "idx = pd.date_range('2020-01', periods=3, freq='M')\n",
    "\n",
    "sr = pd.Series(np.random.randint(10, 100, len(idx)), index=idx)\n",
    "\n",
    "display(sr,\n",
    "        sr.resample('W-SAT').ffill(limit=2))\n"
   ]
  },
  {
   "cell_type": "code",
   "execution_count": 57,
   "metadata": {},
   "outputs": [
    {
     "data": {
      "text/plain": [
       "2020-01-31    62\n",
       "2020-02-29    44\n",
       "2020-03-31    77\n",
       "Freq: M, dtype: int32"
      ]
     },
     "metadata": {},
     "output_type": "display_data"
    },
    {
     "data": {
      "text/plain": [
       "2020-02-01     NaN\n",
       "2020-02-08     NaN\n",
       "2020-02-15    44.0\n",
       "2020-02-22    44.0\n",
       "2020-02-29    44.0\n",
       "2020-03-07     NaN\n",
       "2020-03-14     NaN\n",
       "2020-03-21    77.0\n",
       "2020-03-28    77.0\n",
       "2020-04-04     NaN\n",
       "Freq: W-SAT, dtype: float64"
      ]
     },
     "metadata": {},
     "output_type": "display_data"
    }
   ],
   "source": [
    "import pandas as pd\n",
    "\n",
    "idx = pd.date_range('2020-01', periods=3, freq='M')\n",
    "\n",
    "sr = pd.Series(np.random.randint(10, 100, len(idx)), index=idx)\n",
    "\n",
    "display(sr,\n",
    "        sr.resample('W-SAT').bfill(limit=2))\n"
   ]
  },
  {
   "cell_type": "code",
   "execution_count": 10,
   "metadata": {},
   "outputs": [
    {
     "data": {
      "text/html": [
       "<div>\n",
       "<style scoped>\n",
       "    .dataframe tbody tr th:only-of-type {\n",
       "        vertical-align: middle;\n",
       "    }\n",
       "\n",
       "    .dataframe tbody tr th {\n",
       "        vertical-align: top;\n",
       "    }\n",
       "\n",
       "    .dataframe thead th {\n",
       "        text-align: right;\n",
       "    }\n",
       "</style>\n",
       "<table border=\"1\" class=\"dataframe\">\n",
       "  <thead>\n",
       "    <tr style=\"text-align: right;\">\n",
       "      <th></th>\n",
       "      <th>One</th>\n",
       "      <th>Two</th>\n",
       "    </tr>\n",
       "  </thead>\n",
       "  <tbody>\n",
       "    <tr>\n",
       "      <th>31 Jan 2020</th>\n",
       "      <td>93</td>\n",
       "      <td>5.970250</td>\n",
       "    </tr>\n",
       "    <tr>\n",
       "      <th>29 Feb 2020</th>\n",
       "      <td>74</td>\n",
       "      <td>3.409001</td>\n",
       "    </tr>\n",
       "    <tr>\n",
       "      <th>31 Mar 2020</th>\n",
       "      <td>23</td>\n",
       "      <td>8.078861</td>\n",
       "    </tr>\n",
       "    <tr>\n",
       "      <th>30 Apr 2020</th>\n",
       "      <td>75</td>\n",
       "      <td>9.426304</td>\n",
       "    </tr>\n",
       "    <tr>\n",
       "      <th>31 May 2020</th>\n",
       "      <td>19</td>\n",
       "      <td>2.691479</td>\n",
       "    </tr>\n",
       "    <tr>\n",
       "      <th>30 Jun 2020</th>\n",
       "      <td>34</td>\n",
       "      <td>5.114234</td>\n",
       "    </tr>\n",
       "  </tbody>\n",
       "</table>\n",
       "</div>"
      ],
      "text/plain": [
       "             One       Two\n",
       "31 Jan 2020   93  5.970250\n",
       "29 Feb 2020   74  3.409001\n",
       "31 Mar 2020   23  8.078861\n",
       "30 Apr 2020   75  9.426304\n",
       "31 May 2020   19  2.691479\n",
       "30 Jun 2020   34  5.114234"
      ]
     },
     "metadata": {},
     "output_type": "display_data"
    }
   ],
   "source": [
    "import pandas as pd\n",
    "import numpy as np\n",
    "\n",
    "dr = pd.date_range('2020-01-01', periods=6, freq='M')\n",
    "\n",
    "format_idx = dr.strftime('%d %b %Y')\n",
    "\n",
    "data = {'One': np.random.randint(10, 100, 6),\n",
    "        'Two': np.random.uniform(1, 10, 6)}\n",
    "\n",
    "df = pd.DataFrame(data, index=format_idx)\n",
    "\n",
    "display(df)"
   ]
  },
  {
   "cell_type": "code",
   "execution_count": 3,
   "metadata": {},
   "outputs": [
    {
     "data": {
      "text/html": [
       "<div>\n",
       "<style scoped>\n",
       "    .dataframe tbody tr th:only-of-type {\n",
       "        vertical-align: middle;\n",
       "    }\n",
       "\n",
       "    .dataframe tbody tr th {\n",
       "        vertical-align: top;\n",
       "    }\n",
       "\n",
       "    .dataframe thead th {\n",
       "        text-align: right;\n",
       "    }\n",
       "</style>\n",
       "<table border=\"1\" class=\"dataframe\">\n",
       "  <thead>\n",
       "    <tr style=\"text-align: right;\">\n",
       "      <th></th>\n",
       "      <th>One</th>\n",
       "      <th>Two</th>\n",
       "    </tr>\n",
       "  </thead>\n",
       "  <tbody>\n",
       "    <tr>\n",
       "      <th>31 Jan 2020</th>\n",
       "      <td>92</td>\n",
       "      <td>4.797752</td>\n",
       "    </tr>\n",
       "    <tr>\n",
       "      <th>29 Feb 2020</th>\n",
       "      <td>10</td>\n",
       "      <td>2.344154</td>\n",
       "    </tr>\n",
       "    <tr>\n",
       "      <th>31 Mar 2020</th>\n",
       "      <td>61</td>\n",
       "      <td>5.860047</td>\n",
       "    </tr>\n",
       "    <tr>\n",
       "      <th>30 Apr 2020</th>\n",
       "      <td>16</td>\n",
       "      <td>9.656550</td>\n",
       "    </tr>\n",
       "    <tr>\n",
       "      <th>31 May 2020</th>\n",
       "      <td>26</td>\n",
       "      <td>3.766370</td>\n",
       "    </tr>\n",
       "    <tr>\n",
       "      <th>30 Jun 2020</th>\n",
       "      <td>39</td>\n",
       "      <td>6.545036</td>\n",
       "    </tr>\n",
       "  </tbody>\n",
       "</table>\n",
       "</div>"
      ],
      "text/plain": [
       "             One       Two\n",
       "31 Jan 2020   92  4.797752\n",
       "29 Feb 2020   10  2.344154\n",
       "31 Mar 2020   61  5.860047\n",
       "30 Apr 2020   16  9.656550\n",
       "31 May 2020   26  3.766370\n",
       "30 Jun 2020   39  6.545036"
      ]
     },
     "metadata": {},
     "output_type": "display_data"
    }
   ],
   "source": [
    "import pandas as pd\n",
    "import numpy as np\n",
    "\n",
    "dr = pd.date_range('2020-01-01', periods=6, freq='M')\n",
    "\n",
    "data = {'One': np.random.randint(10, 100, 6),\n",
    "        'Two': np.random.uniform(1, 10, 6)}\n",
    "\n",
    "df = pd.DataFrame(data, index=dr)\n",
    "\n",
    "df.index = df.index.strftime('%d %b %Y')\n",
    "\n",
    "display(df)"
   ]
  },
  {
   "cell_type": "code",
   "execution_count": 9,
   "metadata": {},
   "outputs": [
    {
     "data": {
      "text/html": [
       "<div>\n",
       "<style scoped>\n",
       "    .dataframe tbody tr th:only-of-type {\n",
       "        vertical-align: middle;\n",
       "    }\n",
       "\n",
       "    .dataframe tbody tr th {\n",
       "        vertical-align: top;\n",
       "    }\n",
       "\n",
       "    .dataframe thead th {\n",
       "        text-align: right;\n",
       "    }\n",
       "</style>\n",
       "<table border=\"1\" class=\"dataframe\">\n",
       "  <thead>\n",
       "    <tr style=\"text-align: right;\">\n",
       "      <th></th>\n",
       "      <th>One</th>\n",
       "      <th>Two</th>\n",
       "    </tr>\n",
       "  </thead>\n",
       "  <tbody>\n",
       "    <tr>\n",
       "      <th>31 Jan 2020</th>\n",
       "      <td>48</td>\n",
       "      <td>2.491276</td>\n",
       "    </tr>\n",
       "    <tr>\n",
       "      <th>29 Feb 2020</th>\n",
       "      <td>97</td>\n",
       "      <td>5.256158</td>\n",
       "    </tr>\n",
       "    <tr>\n",
       "      <th>31 Mar 2020</th>\n",
       "      <td>70</td>\n",
       "      <td>6.655644</td>\n",
       "    </tr>\n",
       "    <tr>\n",
       "      <th>30 Apr 2020</th>\n",
       "      <td>89</td>\n",
       "      <td>8.935897</td>\n",
       "    </tr>\n",
       "  </tbody>\n",
       "</table>\n",
       "</div>"
      ],
      "text/plain": [
       "             One       Two\n",
       "31 Jan 2020   48  2.491276\n",
       "29 Feb 2020   97  5.256158\n",
       "31 Mar 2020   70  6.655644\n",
       "30 Apr 2020   89  8.935897"
      ]
     },
     "execution_count": 9,
     "metadata": {},
     "output_type": "execute_result"
    }
   ],
   "source": [
    "import pandas as pd\n",
    "import numpy as np\n",
    "\n",
    "dr = pd.date_range('2020-01-01', periods=6, freq='M')\n",
    "\n",
    "data = {'One': np.random.randint(10, 100, 6),\n",
    "        'Two': np.random.uniform(1, 10, 6)}\n",
    "\n",
    "df = pd.DataFrame(data, index=dr)\n",
    "\n",
    "#display(df[1:4],\n",
    "#        df['31 Jan 2020':'30 Apr 2020'],\n",
    "#        df['2020-01':'2020-04'],\n",
    "#        df[df.index.month > 3])\n",
    "\n",
    "df2 = df['2020-01':'2020-04']\n",
    "df2.index = df2.index.strftime('%d %b %Y')\n",
    "\n",
    "df2"
   ]
  },
  {
   "cell_type": "code",
   "execution_count": 7,
   "metadata": {},
   "outputs": [
    {
     "data": {
      "text/html": [
       "<div>\n",
       "<style scoped>\n",
       "    .dataframe tbody tr th:only-of-type {\n",
       "        vertical-align: middle;\n",
       "    }\n",
       "\n",
       "    .dataframe tbody tr th {\n",
       "        vertical-align: top;\n",
       "    }\n",
       "\n",
       "    .dataframe thead th {\n",
       "        text-align: right;\n",
       "    }\n",
       "</style>\n",
       "<table border=\"1\" class=\"dataframe\">\n",
       "  <thead>\n",
       "    <tr style=\"text-align: right;\">\n",
       "      <th></th>\n",
       "      <th>One</th>\n",
       "      <th>Two</th>\n",
       "    </tr>\n",
       "  </thead>\n",
       "  <tbody>\n",
       "    <tr>\n",
       "      <th>31 มกราคม 2563</th>\n",
       "      <td>17</td>\n",
       "      <td>2.187880</td>\n",
       "    </tr>\n",
       "    <tr>\n",
       "      <th>29 กุมภาพันธ์ 2563</th>\n",
       "      <td>68</td>\n",
       "      <td>1.920131</td>\n",
       "    </tr>\n",
       "    <tr>\n",
       "      <th>31 มีนาคม 2563</th>\n",
       "      <td>34</td>\n",
       "      <td>1.191284</td>\n",
       "    </tr>\n",
       "    <tr>\n",
       "      <th>30 เมษายน 2563</th>\n",
       "      <td>96</td>\n",
       "      <td>6.747760</td>\n",
       "    </tr>\n",
       "    <tr>\n",
       "      <th>31 พฤษภาคม 2563</th>\n",
       "      <td>14</td>\n",
       "      <td>1.468698</td>\n",
       "    </tr>\n",
       "    <tr>\n",
       "      <th>30 มิถุนายน 2563</th>\n",
       "      <td>43</td>\n",
       "      <td>6.821265</td>\n",
       "    </tr>\n",
       "  </tbody>\n",
       "</table>\n",
       "</div>"
      ],
      "text/plain": [
       "                    One       Two\n",
       "31 มกราคม 2563       17  2.187880\n",
       "29 กุมภาพันธ์ 2563   68  1.920131\n",
       "31 มีนาคม 2563       34  1.191284\n",
       "30 เมษายน 2563       96  6.747760\n",
       "31 พฤษภาคม 2563      14  1.468698\n",
       "30 มิถุนายน 2563     43  6.821265"
      ]
     },
     "execution_count": 7,
     "metadata": {},
     "output_type": "execute_result"
    }
   ],
   "source": [
    "import pandas as pd\n",
    "import numpy as np\n",
    "\n",
    "def format(x):\n",
    "    months = ['มกราคม', 'กุมภาพันธ์', 'มีนาคม', 'เมษายน', 'พฤษภาคม', 'มิถุนายน', \n",
    "              'กรกฎาคม', 'สิงหาคม', 'กันยายน', 'ตุลาคม', 'พฤศจิกายน', 'ธันวาคม']\n",
    "\n",
    "    d = x.day\n",
    "    m = months[x.month - 1]\n",
    "    y = x.year + 543\n",
    "    \n",
    "    return f'{d} {m} {y}'\n",
    "\n",
    "#----------------------------------------------------\n",
    "    \n",
    "dr = pd.date_range('2020-01-01', periods=6, freq='M')\n",
    "\n",
    "data = {'One': np.random.randint(10, 100, 6),\n",
    "        'Two': np.random.uniform(1, 10, 6)}\n",
    "\n",
    "df = pd.DataFrame(data, index=dr)\n",
    "df.index = df.index.map(format)\n",
    "\n",
    "df"
   ]
  },
  {
   "cell_type": "code",
   "execution_count": 5,
   "metadata": {},
   "outputs": [
    {
     "data": {
      "text/html": [
       "<div>\n",
       "<style scoped>\n",
       "    .dataframe tbody tr th:only-of-type {\n",
       "        vertical-align: middle;\n",
       "    }\n",
       "\n",
       "    .dataframe tbody tr th {\n",
       "        vertical-align: top;\n",
       "    }\n",
       "\n",
       "    .dataframe thead th {\n",
       "        text-align: right;\n",
       "    }\n",
       "</style>\n",
       "<table border=\"1\" class=\"dataframe\">\n",
       "  <thead>\n",
       "    <tr style=\"text-align: right;\">\n",
       "      <th></th>\n",
       "      <th>One</th>\n",
       "      <th>Two</th>\n",
       "      <th>Three</th>\n",
       "      <th>Four</th>\n",
       "      <th>Five</th>\n",
       "    </tr>\n",
       "  </thead>\n",
       "  <tbody>\n",
       "    <tr>\n",
       "      <th>0</th>\n",
       "      <td>38</td>\n",
       "      <td>2.605386</td>\n",
       "      <td>31 - Jan - 2020</td>\n",
       "      <td>01 January 2020</td>\n",
       "      <td>1 มกราคม 2563</td>\n",
       "    </tr>\n",
       "    <tr>\n",
       "      <th>1</th>\n",
       "      <td>11</td>\n",
       "      <td>-0.694311</td>\n",
       "      <td>29 - Feb - 2020</td>\n",
       "      <td>06 April 2020</td>\n",
       "      <td>6 เมษายน 2563</td>\n",
       "    </tr>\n",
       "    <tr>\n",
       "      <th>2</th>\n",
       "      <td>40</td>\n",
       "      <td>-2.680288</td>\n",
       "      <td>31 - Mar - 2020</td>\n",
       "      <td>13 April 2020</td>\n",
       "      <td>13 เมษายน 2563</td>\n",
       "    </tr>\n",
       "    <tr>\n",
       "      <th>3</th>\n",
       "      <td>25</td>\n",
       "      <td>7.440447</td>\n",
       "      <td>30 - Apr - 2020</td>\n",
       "      <td>28 July 2020</td>\n",
       "      <td>28 กรกฎาคม 2563</td>\n",
       "    </tr>\n",
       "    <tr>\n",
       "      <th>4</th>\n",
       "      <td>40</td>\n",
       "      <td>-4.442828</td>\n",
       "      <td>31 - May - 2020</td>\n",
       "      <td>12 August 2020</td>\n",
       "      <td>12 สิงหาคม 2563</td>\n",
       "    </tr>\n",
       "    <tr>\n",
       "      <th>5</th>\n",
       "      <td>98</td>\n",
       "      <td>-1.489799</td>\n",
       "      <td>30 - Jun - 2020</td>\n",
       "      <td>13 October 2020</td>\n",
       "      <td>13 ตุลาคม 2563</td>\n",
       "    </tr>\n",
       "  </tbody>\n",
       "</table>\n",
       "</div>"
      ],
      "text/plain": [
       "   One       Two            Three             Four             Five\n",
       "0   38  2.605386  31 - Jan - 2020  01 January 2020    1 มกราคม 2563\n",
       "1   11 -0.694311  29 - Feb - 2020    06 April 2020    6 เมษายน 2563\n",
       "2   40 -2.680288  31 - Mar - 2020    13 April 2020   13 เมษายน 2563\n",
       "3   25  7.440447  30 - Apr - 2020     28 July 2020  28 กรกฎาคม 2563\n",
       "4   40 -4.442828  31 - May - 2020   12 August 2020  12 สิงหาคม 2563\n",
       "5   98 -1.489799  30 - Jun - 2020  13 October 2020   13 ตุลาคม 2563"
      ]
     },
     "execution_count": 5,
     "metadata": {},
     "output_type": "execute_result"
    }
   ],
   "source": [
    "import pandas as pd\n",
    "import numpy as np\n",
    "\n",
    "def format(x):\n",
    "    months = ['มกราคม', 'กุมภาพันธ์', 'มีนาคม', 'เมษายน', 'พฤษภาคม', 'มิถุนายน', \n",
    "              'กรกฎาคม', 'สิงหาคม', 'กันยายน', 'ตุลาคม', 'พฤศจิกายน', 'ธันวาคม']\n",
    "\n",
    "    d = x.day\n",
    "    m = months[x.month - 1]\n",
    "    y = x.year + 543\n",
    "    \n",
    "    return f'{d} {m} {y}'\n",
    "\n",
    "#----------------------------------------------------\n",
    "\n",
    "holidays = ['2020-01-01', '2020/04/06', '4/13/2020', 'Jul 28, 2020',\n",
    "            '12 August 2020', 'Tue 13 Oct 2020']\n",
    "\n",
    "data = {'One': np.random.randint(10, 100, 6), \n",
    "        'Two': np.random.uniform(-10, 10, 6),\n",
    "        'Three': pd.date_range('2020-01-01', periods=6, freq='M'),\n",
    "        'Four': holidays,\n",
    "        'Five': holidays}\n",
    "\n",
    "df = pd.DataFrame(data)\n",
    "\n",
    "df['Three'] = pd.to_datetime(df['Three'])\n",
    "df['Three'] = df['Three'].dt.strftime('%d - %b - %Y')\n",
    "\n",
    "df.Four = pd.to_datetime(df.Four)\n",
    "df.Four = df.Four.dt.strftime('%d %B %Y')\n",
    "\n",
    "df.Five = pd.to_datetime(df.Five)\n",
    "df.Five = df.Five.apply(format)\n",
    "\n",
    "df\n"
   ]
  }
 ],
 "metadata": {
  "kernelspec": {
   "display_name": "Python 3",
   "language": "python",
   "name": "python3"
  },
  "language_info": {
   "codemirror_mode": {
    "name": "ipython",
    "version": 3
   },
   "file_extension": ".py",
   "mimetype": "text/x-python",
   "name": "python",
   "nbconvert_exporter": "python",
   "pygments_lexer": "ipython3",
   "version": "3.7.3"
  }
 },
 "nbformat": 4,
 "nbformat_minor": 2
}
